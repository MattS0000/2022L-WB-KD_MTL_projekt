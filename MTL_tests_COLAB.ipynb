{
  "cells": [
    {
      "cell_type": "code",
      "execution_count": 1,
      "metadata": {
        "id": "cWcbt02BAloU"
      },
      "outputs": [],
      "source": [
        "import torchvision.models as models\n",
        "import torch\n",
        "import torch.nn.functional as F\n",
        "from torchvision import transforms\n",
        "from PIL import Image\n",
        "import numpy as np\n",
        "from torch import nn\n",
        "from dataset import IDRiD_Dataset\n",
        "from torch.utils.data import DataLoader\n",
        "from torch.optim.lr_scheduler import ReduceLROnPlateau"
      ]
    },
    {
      "cell_type": "code",
      "execution_count": 2,
      "metadata": {
        "id": "u-LbM-RsAlof"
      },
      "outputs": [],
      "source": [
        "class MTL(nn.Module):\n",
        "    def __init__(self):\n",
        "        super(MTL, self).__init__()\n",
        "        resnet50 = models.resnet50(pretrained=True)\n",
        "        self.features = torch.nn.Sequential(*(list(resnet50.children())[:-1]))\n",
        "        self.last = nn.Sequential(nn.Linear(2048, 1024),nn.ReLU())\n",
        "        self.retinopathy_classifier = nn.Sequential(nn.Linear(1024, 512),nn.ReLU(), nn.Linear(512, 5), nn.Softmax(dim=1))\n",
        "        self.macular_edema_classifier = nn.Sequential(nn.Linear(1024, 512),nn.ReLU(), nn.Linear(512, 5), nn.Softmax(dim=1))\n",
        "        self.fovea_center_cords = nn.Sequential(nn.Linear(1024, 512),nn.ReLU(), nn.Linear(512, 2))\n",
        "        self.optical_disk_cords = nn.Sequential(nn.Linear(1024, 512),nn.ReLU(), nn.Linear(512, 2))\n",
        "\n",
        "        \n",
        "    def forward(self,data):\n",
        "        out = self.features.forward(data).squeeze()\n",
        "        out = self.last.forward(out)\n",
        "        return (self.retinopathy_classifier(out),\n",
        "                self.macular_edema_classifier(out),\n",
        "                self.fovea_center_cords(out),\n",
        "                self.optical_disk_cords(out))\n"
      ]
    },
    {
      "cell_type": "code",
      "execution_count": 4,
      "metadata": {
        "id": "7fjGHJ5AAlol"
      },
      "outputs": [],
      "source": [
        "class MTL_trainer():\n",
        "    def __init__(self,mtl,optimizer, scheduler, criterion, tasks, epochs):\n",
        "        self.mtl = mtl\n",
        "        self.optimizer = optimizer\n",
        "        self.scheduler = scheduler\n",
        "        self.criterion = criterion\n",
        "        self.criterion2 = nn.MSELoss()\n",
        "        self.tasks = tasks\n",
        "        self.epochs = epochs\n",
        "\n",
        "    def train(self,train_dl):\n",
        "        for e in range(self.epochs):\n",
        "            self.mtl.train()\n",
        "            print(\"Epoch: {} \".format(e+1),end=\"\")\n",
        "            self.train_iter(train_dl)\n",
        "            \n",
        "    def train_iter(self, train_dl):\n",
        "        train_loss = 0.0\n",
        "        loss0sum = 0.0\n",
        "        loss1sum = 0.0\n",
        "        loss2sum = 0.0\n",
        "        loss3sum = 0.0\n",
        "        loss = torch.tensor(0)\n",
        "        accuracy0 = 0.0\n",
        "        accuracy1 = 0.0\n",
        "        for i, (imgs, retinopathy_label, macular_edema_label, fovea_center_labels, optical_disk_labels) in enumerate(train_dl):\n",
        "            fovea_center_labels[:0], fovea_center_labels[:1] = fovea_center_labels[:0]*Rx, fovea_center_labels[:1]*Ry\n",
        "            optical_disk_labels[:0], optical_disk_labels[:1] = optical_disk_labels[:0]*Rx, optical_disk_labels[:1]*Ry\n",
        "            batch_size = imgs.size(0)\n",
        "            self.optimizer.zero_grad()\n",
        "            retinopathy_pred, macular_edema_pred, fovea_center_pred, optical_disk_pred = self.mtl(imgs.to(device))\n",
        "            loss0 = self.criterion(retinopathy_pred, retinopathy_label.to(device).to(torch.int64)).to(torch.float64)*10\n",
        "            loss1 = self.criterion(macular_edema_pred, macular_edema_label.to(device).to(torch.int64)).to(torch.float64)*10\n",
        "            loss2 = torch.sqrt(self.criterion2(fovea_center_pred.to(torch.double),fovea_center_labels.to(device).to(torch.double)))/100\n",
        "            loss3 = torch.sqrt(self.criterion2(optical_disk_pred.to(torch.double),optical_disk_labels.to(device).to(torch.double)))/100\n",
        "            loss0sum += loss0\n",
        "            loss1sum += loss1\n",
        "            loss2sum += loss2\n",
        "            loss3sum += loss3\n",
        "            pred0 = F.softmax(retinopathy_pred, dim = -1).argmax(dim=-1)\n",
        "            accuracy0 += pred0.eq(retinopathy_label.to(device)).sum().item()\n",
        "            pred1 = F.softmax(macular_edema_pred, dim = -1).argmax(dim=-1)\n",
        "            accuracy1 += pred1.eq(macular_edema_label.to(device)).sum().item()\n",
        "            loss = torch.stack((loss0, loss1, loss2 ,loss3))[self.tasks].sum()\n",
        "            if i%4==0:\n",
        "              print('=',end=\"\")\n",
        "            #print('Batch number: {}\\nLoss on batch: {}\\nLoss0: {}\\nLoss1: {}\\nLoss2: {}\\nLoss3: {}\\n-----------------------'.format(i,loss.item(), loss0.item(), loss1.item(), loss2.item() ,loss3.item()))\n",
        "            loss.backward()\n",
        "            self.optimizer.step()\n",
        "            train_loss += loss\n",
        "        print(\"\\nTotal Loss: {}\\nLoss0: {}  Accuracy0: {}\\nLoss1: {}  Accuracy1: {}\\nLoss2: {}\\nLoss3: {}\".format(train_loss, loss0sum, accuracy0*100/413, loss1sum, accuracy1*100/413,loss2sum,loss3sum))\n",
        "        return train_loss"
      ]
    },
    {
      "cell_type": "code",
      "execution_count": 5,
      "metadata": {
        "id": "KGBFTSmfAloo"
      },
      "outputs": [],
      "source": [
        "rx=1800\n",
        "ry=1200\n",
        "old_x=4288\n",
        "old_y=2848\n",
        "Rx=rx/old_x\n",
        "Ry=ry/old_y\n",
        "\n",
        "data_transformer = transforms.Compose([transforms.Resize((rx,ry)),transforms.ToTensor()])\n",
        "train_ds = IDRiD_Dataset(data_transformer,'train')\n",
        "train_dl = DataLoader(train_ds,batch_size=3,shuffle=True)\n",
        "mtl = MTL()\n",
        "\n",
        "if torch.cuda.is_available():\n",
        "    device = torch.device(\"cuda\")\n",
        "    mtl=mtl.to(device)\n",
        "    mtl=nn.DataParallel(mtl)\n",
        "\n",
        "criterion = nn.CrossEntropyLoss()\n",
        "optimizer = torch.optim.SGD(mtl.parameters(),\n",
        "                                weight_decay=1e-6,\n",
        "                                momentum=0.9,\n",
        "                                lr=1e-3,\n",
        "                                nesterov=True)\n",
        "scheduler = ReduceLROnPlateau(optimizer,\n",
        "                                  factor=0.5,\n",
        "                                  patience=3,\n",
        "                                  min_lr=1e-7,\n",
        "                                  verbose=True)\n",
        "tasks=[[0,1,2,3]]"
      ]
    },
    {
      "cell_type": "code",
      "execution_count": 6,
      "metadata": {
        "colab": {
          "base_uri": "https://localhost:8080/"
        },
        "id": "-pTB7N4tAloq",
        "outputId": "964dd127-3c56-4b35-d279-8241c4ab16fc"
      },
      "outputs": [
        {
          "output_type": "stream",
          "name": "stdout",
          "text": [
            "Epoch: 1 ===================================\n",
            "Total Loss: 8413.86153288096\n",
            "Loss0: 2180.370692014694  Accuracy0: 31.476997578692494\n",
            "Loss1: 2055.119348168373  Accuracy1: 43.09927360774818\n",
            "Loss2: 2090.250257522924\n",
            "Loss3: 2088.1212351749696\n",
            "Epoch: 2 ===================================\n",
            "Total Loss: 8424.023576428079\n",
            "Loss0: 2165.13640999794  Accuracy0: 32.20338983050848\n",
            "Loss1: 2038.5176730155945  Accuracy1: 42.857142857142854\n",
            "Loss2: 2080.3062080747504\n",
            "Loss3: 2140.0632853397938\n",
            "Epoch: 3 ===================================\n",
            "Total Loss: 8273.948805949389\n",
            "Loss0: 2107.0050621032715  Accuracy0: 32.445520581113804\n",
            "Loss1: 1969.2409765720367  Accuracy1: 45.27845036319613\n",
            "Loss2: 2088.4077139206242\n",
            "Loss3: 2109.2950533534536\n"
          ]
        }
      ],
      "source": [
        "mtl_trainer=MTL_trainer(mtl,optimizer,scheduler,criterion,tasks,3)\n",
        "mtl_trainer.train(train_dl)"
      ]
    }
  ],
  "metadata": {
    "interpreter": {
      "hash": "483aeb2f258bd2a173809688f12c66e6038f5b29dd5fc23ebacdcb77cdae07a9"
    },
    "kernelspec": {
      "display_name": "Python 3.7.4 ('base')",
      "language": "python",
      "name": "python3"
    },
    "language_info": {
      "codemirror_mode": {
        "name": "ipython",
        "version": 3
      },
      "file_extension": ".py",
      "mimetype": "text/x-python",
      "name": "python",
      "nbconvert_exporter": "python",
      "pygments_lexer": "ipython3",
      "version": "3.7.4"
    },
    "orig_nbformat": 4,
    "colab": {
      "name": "MTL_tests_COLAB.ipynb",
      "provenance": [],
      "collapsed_sections": []
    },
    "accelerator": "GPU"
  },
  "nbformat": 4,
  "nbformat_minor": 0
}