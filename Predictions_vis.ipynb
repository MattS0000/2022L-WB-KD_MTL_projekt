{
 "cells": [
  {
   "cell_type": "code",
   "execution_count": 75,
   "id": "sharp-blocking",
   "metadata": {},
   "outputs": [],
   "source": [
    "import pandas as pd\n",
    "import numpy as np\n",
    "from sklearn.metrics import accuracy_score, balanced_accuracy_score, confusion_matrix, f1_score, precision_score, recall_score"
   ]
  },
  {
   "cell_type": "code",
   "execution_count": 84,
   "id": "korean-stroke",
   "metadata": {},
   "outputs": [],
   "source": [
    "def metrics(true, pred):\n",
    "    print(\"Accuracy: \", accuracy_score(true, pred))\n",
    "    print(\"Balanced Accuracy: \", balanced_accuracy_score(true, pred))\n",
    "    print(\"F1 micro Score: \", f1_score(true, pred, average='micro'))\n",
    "    print(\"F1 macro Score: \", f1_score(true, pred, average='macro'))\n",
    "    print(\"Precision micro: \", precision_score(true, pred, average='micro'))\n",
    "    print(\"Precision macro: \", precision_score(true, pred, average='macro'))\n",
    "    print(\"Recall micro: \", recall_score(true, pred, average='micro'))\n",
    "    print(\"Recall macro: \", recall_score(true, pred, average='macro'))\n",
    "    print(\"Confusion Matrix\")\n",
    "    print(confusion_matrix(true, pred))"
   ]
  },
  {
   "cell_type": "code",
   "execution_count": 114,
   "id": "missing-benjamin",
   "metadata": {},
   "outputs": [],
   "source": [
    "M3_test = pd.read_csv('./IDRID/Labels/Train/M3_predictions[0, 1].csv', index_col=0)\n",
    "M2_train = pd.read_csv('./IDRID/Labels/Train/M2_predictions[0, 1].csv', index_col=0)\n",
    "Ensemble_train = pd.read_csv('./IDRID/Labels/Train/Ensemble_predictions[0, 1].csv', index_col=0)\n",
    "Labels_train = pd.read_csv('./IDRID/Labels/Train/labels.csv', index_col=0)\n",
    "Labels_test = pd.read_csv('./IDRID/Labels/Test/labels.csv', index_col=0)\n",
    "M1_0_train = pd.read_csv('./IDRID/Labels/Train/M1_predictions[0].csv', index_col=0)\n",
    "M1_01_train = pd.read_csv('./IDRID/Labels/Train/M1_predictions[0, 1].csv', index_col=0)\n",
    "M1_1_train = pd.read_csv('./IDRID/Labels/Train/M1_predictions[1].csv', index_col=0)"
   ]
  },
  {
   "cell_type": "code",
   "execution_count": 65,
   "id": "impressed-helicopter",
   "metadata": {},
   "outputs": [
    {
     "data": {
      "text/plain": [
       "2    136\n",
       "0    134\n",
       "3     74\n",
       "4     49\n",
       "1     20\n",
       "Name: Retinopathy grade, dtype: int64"
      ]
     },
     "execution_count": 65,
     "metadata": {},
     "output_type": "execute_result"
    }
   ],
   "source": [
    "Labels_train['Retinopathy grade'].value_counts()"
   ]
  },
  {
   "cell_type": "code",
   "execution_count": 87,
   "id": "domestic-strip",
   "metadata": {},
   "outputs": [
    {
     "data": {
      "text/plain": [
       "2    195\n",
       "0    177\n",
       "1     41\n",
       "Name: Risk of macular edema, dtype: int64"
      ]
     },
     "execution_count": 87,
     "metadata": {},
     "output_type": "execute_result"
    }
   ],
   "source": [
    "Labels_train['Risk of macular edema'].value_counts()"
   ]
  },
  {
   "cell_type": "code",
   "execution_count": 121,
   "id": "defined-sierra",
   "metadata": {},
   "outputs": [
    {
     "data": {
      "text/plain": [
       "2    48\n",
       "0    45\n",
       "1    10\n",
       "Name: Risk of macular edema, dtype: int64"
      ]
     },
     "execution_count": 121,
     "metadata": {},
     "output_type": "execute_result"
    }
   ],
   "source": [
    "Labels_test['Risk of macular edema'].value_counts()"
   ]
  },
  {
   "cell_type": "code",
   "execution_count": 97,
   "id": "original-closing",
   "metadata": {},
   "outputs": [
    {
     "name": "stdout",
     "output_type": "stream",
     "text": [
      "Accuracy:  0.9346246973365617\n",
      "Balanced Accuracy:  0.948530029196027\n",
      "F1 micro Score:  0.9346246973365616\n",
      "F1 macro Score:  0.9376847956224174\n",
      "Precision micro:  0.9346246973365617\n",
      "Precision macro:  0.9350043078964078\n",
      "Recall micro:  0.9346246973365617\n",
      "Recall macro:  0.948530029196027\n",
      "Confusion Matrix\n",
      "[[130   0   1   3   0]\n",
      " [  0  20   0   0   0]\n",
      " [  1   0 118  16   1]\n",
      " [  0   1   0  73   0]\n",
      " [  0   0   0   4  45]]\n"
     ]
    }
   ],
   "source": [
    "metrics(Labels_train['Retinopathy grade'], M1_0_train.iloc[:,0:5].idxmax(axis=1).astype(np.int64))"
   ]
  },
  {
   "cell_type": "code",
   "execution_count": 98,
   "id": "floating-limit",
   "metadata": {},
   "outputs": [
    {
     "name": "stdout",
     "output_type": "stream",
     "text": [
      "Accuracy:  0.6101694915254238\n",
      "Balanced Accuracy:  0.7320949033102552\n",
      "F1 micro Score:  0.6101694915254238\n",
      "F1 macro Score:  0.5753576457517859\n",
      "Precision micro:  0.6101694915254238\n",
      "Precision macro:  0.5040513652977343\n",
      "Recall micro:  0.6101694915254238\n",
      "Recall macro:  0.7320949033102552\n",
      "Confusion Matrix\n",
      "[[132   2   0   0   0]\n",
      " [  0  20   0   0   0]\n",
      " [ 81  30   0  14  11]\n",
      " [ 18   2   0  53   1]\n",
      " [  1   1   0   0  47]]\n"
     ]
    },
    {
     "name": "stderr",
     "output_type": "stream",
     "text": [
      "C:\\Users\\mati2\\Anaconda\\lib\\site-packages\\sklearn\\metrics\\_classification.py:1308: UndefinedMetricWarning: Precision is ill-defined and being set to 0.0 in labels with no predicted samples. Use `zero_division` parameter to control this behavior.\n",
      "  _warn_prf(average, modifier, msg_start, len(result))\n"
     ]
    }
   ],
   "source": [
    "metrics(Labels_train['Retinopathy grade'], M1_01_train.iloc[:,0:5].idxmax(axis=1).astype(np.int64))"
   ]
  },
  {
   "cell_type": "code",
   "execution_count": 100,
   "id": "widespread-nightmare",
   "metadata": {},
   "outputs": [
    {
     "name": "stdout",
     "output_type": "stream",
     "text": [
      "Accuracy:  0.513317191283293\n",
      "Balanced Accuracy:  0.5215759849906191\n",
      "F1 micro Score:  0.513317191283293\n",
      "F1 macro Score:  0.4756692009516046\n",
      "Precision micro:  0.513317191283293\n",
      "Precision macro:  0.8072923245337038\n",
      "Recall micro:  0.513317191283293\n",
      "Recall macro:  0.5215759849906191\n",
      "Confusion Matrix\n",
      "[[177   0   0]\n",
      " [ 21  20   0]\n",
      " [179   1  15]]\n"
     ]
    }
   ],
   "source": [
    "metrics(Labels_train['Risk of macular edema'], (M1_01_train.iloc[:,5:10].idxmax(axis=1).astype(np.int64)-5))"
   ]
  },
  {
   "cell_type": "code",
   "execution_count": 101,
   "id": "administrative-astronomy",
   "metadata": {},
   "outputs": [
    {
     "name": "stdout",
     "output_type": "stream",
     "text": [
      "Accuracy:  0.9927360774818402\n",
      "Balanced Accuracy:  0.9818565982269992\n",
      "F1 micro Score:  0.9927360774818402\n",
      "F1 macro Score:  0.9879972503392049\n",
      "Precision micro:  0.9927360774818402\n",
      "Precision macro:  0.9945540013758313\n",
      "Recall micro:  0.9927360774818402\n",
      "Recall macro:  0.9818565982269992\n",
      "Confusion Matrix\n",
      "[[176   0   1]\n",
      " [  2  39   0]\n",
      " [  0   0 195]]\n"
     ]
    }
   ],
   "source": [
    "metrics(Labels_train['Risk of macular edema'], (M1_1_train.iloc[:,5:10].idxmax(axis=1).astype(np.int64)-5))"
   ]
  },
  {
   "cell_type": "code",
   "execution_count": 115,
   "id": "horizontal-sixth",
   "metadata": {},
   "outputs": [
    {
     "data": {
      "text/plain": [
       "0    135\n",
       "2    117\n",
       "3     93\n",
       "4     47\n",
       "1     21\n",
       "dtype: int64"
      ]
     },
     "execution_count": 115,
     "metadata": {},
     "output_type": "execute_result"
    }
   ],
   "source": [
    "Ensemble_train.iloc[:,0:5].idxmax(axis=1).value_counts()"
   ]
  },
  {
   "cell_type": "code",
   "execution_count": 116,
   "id": "empirical-blank",
   "metadata": {},
   "outputs": [
    {
     "data": {
      "text/plain": [
       "0    383\n",
       "1     21\n",
       "2      9\n",
       "dtype: int64"
      ]
     },
     "execution_count": 116,
     "metadata": {},
     "output_type": "execute_result"
    }
   ],
   "source": [
    "(Ensemble_train.iloc[:,5:10].idxmax(axis=1).astype(np.int64)-5).value_counts()"
   ]
  },
  {
   "cell_type": "code",
   "execution_count": 117,
   "id": "chubby-metadata",
   "metadata": {},
   "outputs": [
    {
     "name": "stdout",
     "output_type": "stream",
     "text": [
      "Accuracy:  0.937046004842615\n",
      "Balanced Accuracy:  0.9526555600053654\n",
      "F1 micro Score:  0.937046004842615\n",
      "F1 macro Score:  0.9413206546545834\n",
      "Precision micro:  0.937046004842615\n",
      "Precision macro:  0.937056272485236\n",
      "Recall micro:  0.937046004842615\n",
      "Recall macro:  0.9526555600053654\n",
      "Confusion Matrix\n",
      "[[132   0   1   1   0]\n",
      " [  0  20   0   0   0]\n",
      " [  3   0 116  16   1]\n",
      " [  0   1   0  73   0]\n",
      " [  0   0   0   3  46]]\n"
     ]
    }
   ],
   "source": [
    "metrics(Labels_train['Retinopathy grade'], Ensemble_train.iloc[:,0:5].idxmax(axis=1).astype(np.int64))"
   ]
  },
  {
   "cell_type": "code",
   "execution_count": 118,
   "id": "dutch-transport",
   "metadata": {},
   "outputs": [
    {
     "name": "stdout",
     "output_type": "stream",
     "text": [
      "Accuracy:  0.49878934624697335\n",
      "Balanced Accuracy:  0.5113195747342089\n",
      "F1 micro Score:  0.49878934624697335\n",
      "F1 macro Score:  0.4551798138610282\n",
      "Precision micro:  0.49878934624697335\n",
      "Precision macro:  0.8048406481826847\n",
      "Recall micro:  0.49878934624697335\n",
      "Recall macro:  0.5113195747342089\n",
      "Confusion Matrix\n",
      "[[177   0   0]\n",
      " [ 21  20   0]\n",
      " [185   1   9]]\n"
     ]
    }
   ],
   "source": [
    "metrics(Labels_train['Risk of macular edema'], (Ensemble_train.iloc[:,5:10].idxmax(axis=1).astype(np.int64)-5))"
   ]
  },
  {
   "cell_type": "code",
   "execution_count": 89,
   "id": "antique-steps",
   "metadata": {},
   "outputs": [
    {
     "data": {
      "text/plain": [
       "0    410\n",
       "2      3\n",
       "dtype: int64"
      ]
     },
     "execution_count": 89,
     "metadata": {},
     "output_type": "execute_result"
    }
   ],
   "source": [
    "M2_train.iloc[:,0:5].idxmax(axis=1).value_counts()"
   ]
  },
  {
   "cell_type": "code",
   "execution_count": 39,
   "id": "capital-logistics",
   "metadata": {},
   "outputs": [
    {
     "data": {
      "text/plain": [
       "5    413\n",
       "dtype: int64"
      ]
     },
     "execution_count": 39,
     "metadata": {},
     "output_type": "execute_result"
    }
   ],
   "source": [
    "M2_train.iloc[:,5:10].idxmax(axis=1).value_counts()"
   ]
  },
  {
   "cell_type": "code",
   "execution_count": 95,
   "id": "naughty-kingston",
   "metadata": {},
   "outputs": [
    {
     "name": "stdout",
     "output_type": "stream",
     "text": [
      "Accuracy:  0.33171912832929784\n",
      "Balanced Accuracy:  0.20441176470588235\n",
      "F1 micro Score:  0.33171912832929784\n",
      "F1 macro Score:  0.10716250528988573\n",
      "Precision micro:  0.33171912832929784\n",
      "Precision macro:  0.2653658536585366\n",
      "Recall micro:  0.33171912832929784\n",
      "Recall macro:  0.20441176470588235\n",
      "Confusion Matrix\n",
      "[[134   0   0   0   0]\n",
      " [ 20   0   0   0   0]\n",
      " [133   0   3   0   0]\n",
      " [ 74   0   0   0   0]\n",
      " [ 49   0   0   0   0]]\n"
     ]
    },
    {
     "name": "stderr",
     "output_type": "stream",
     "text": [
      "C:\\Users\\mati2\\Anaconda\\lib\\site-packages\\sklearn\\metrics\\_classification.py:1308: UndefinedMetricWarning: Precision is ill-defined and being set to 0.0 in labels with no predicted samples. Use `zero_division` parameter to control this behavior.\n",
      "  _warn_prf(average, modifier, msg_start, len(result))\n"
     ]
    }
   ],
   "source": [
    "metrics(Labels_train['Retinopathy grade'], M2_train.iloc[:,0:5].idxmax(axis=1).astype(np.int64))"
   ]
  },
  {
   "cell_type": "code",
   "execution_count": 94,
   "id": "right-baptist",
   "metadata": {},
   "outputs": [
    {
     "name": "stdout",
     "output_type": "stream",
     "text": [
      "Accuracy:  0.42857142857142855\n",
      "Balanced Accuracy:  0.3333333333333333\n",
      "F1 micro Score:  0.42857142857142855\n",
      "F1 macro Score:  0.19999999999999998\n",
      "Precision micro:  0.42857142857142855\n",
      "Precision macro:  0.14285714285714285\n",
      "Recall micro:  0.42857142857142855\n",
      "Recall macro:  0.3333333333333333\n",
      "Confusion Matrix\n",
      "[[177   0   0]\n",
      " [ 41   0   0]\n",
      " [195   0   0]]\n"
     ]
    },
    {
     "name": "stderr",
     "output_type": "stream",
     "text": [
      "C:\\Users\\mati2\\Anaconda\\lib\\site-packages\\sklearn\\metrics\\_classification.py:1308: UndefinedMetricWarning: Precision is ill-defined and being set to 0.0 in labels with no predicted samples. Use `zero_division` parameter to control this behavior.\n",
      "  _warn_prf(average, modifier, msg_start, len(result))\n"
     ]
    }
   ],
   "source": [
    "metrics(Labels_train['Risk of macular edema'], (M2_train.iloc[:,5:10].idxmax(axis=1).astype(np.int64)-5))"
   ]
  },
  {
   "cell_type": "code",
   "execution_count": 40,
   "id": "domestic-migration",
   "metadata": {},
   "outputs": [
    {
     "data": {
      "text/plain": [
       "0    103\n",
       "dtype: int64"
      ]
     },
     "execution_count": 40,
     "metadata": {},
     "output_type": "execute_result"
    }
   ],
   "source": [
    "M3_test.iloc[:,0:5].idxmax(axis=1).value_counts()"
   ]
  },
  {
   "cell_type": "code",
   "execution_count": 41,
   "id": "greatest-armenia",
   "metadata": {},
   "outputs": [
    {
     "data": {
      "text/plain": [
       "5    103\n",
       "dtype: int64"
      ]
     },
     "execution_count": 41,
     "metadata": {},
     "output_type": "execute_result"
    }
   ],
   "source": [
    "M3_test.iloc[:,5:10].idxmax(axis=1).value_counts()"
   ]
  },
  {
   "cell_type": "code",
   "execution_count": 102,
   "id": "several-quest",
   "metadata": {},
   "outputs": [],
   "source": [
    "import torch\n",
    "from torchvision import transforms\n",
    "from itertools import combinations\n",
    "import pandas as pd\n",
    "from torch import nn\n",
    "from torch.utils.data import DataLoader\n",
    "from torch.nn.functional import softmax\n",
    "from torch.optim.lr_scheduler import ReduceLROnPlateau\n",
    "from Pipeline.Datasets import IDRiD_Dataset, IDRiD_Dataset_Teacher, IDRiD_Dataset_Unlabeled_Preds, IDRiD_Dataset2\n",
    "from Pipeline.Models import MTL"
   ]
  },
  {
   "cell_type": "code",
   "execution_count": 111,
   "id": "packed-filling",
   "metadata": {},
   "outputs": [],
   "source": [
    "def read_predictions(filename):\n",
    "        table = pd.read_csv(filename, index_col=0)\n",
    "        r_label, m_label = table.iloc[:, 0:5], table.iloc[:, 5:10]\n",
    "        r_label = softmax(torch.tensor(r_label.values), dim=-1)\n",
    "        m_label = softmax(torch.tensor(m_label.values), dim=-1)\n",
    "        f_coords, o_coords = table.iloc[:, 10:12], table.iloc[:, 12:]\n",
    "        return r_label, m_label, f_coords, o_coords"
   ]
  },
  {
   "cell_type": "code",
   "execution_count": 113,
   "id": "proprietary-shopper",
   "metadata": {},
   "outputs": [],
   "source": [
    "sub_data12 = read_predictions(\"./IDRID/Labels/train/M1_predictions[0, 1].csv\")\n",
    "sub_data1 = read_predictions(\"./IDRID/Labels/train/M1_predictions[0].csv\")\n",
    "sub_data2 = read_predictions(\"./IDRID/Labels/train/M1_predictions[1].csv\")\n",
    "joined_data = (sub_data1[0].numpy(),pd.DataFrame(sub_data1[1].numpy(), columns=[5, 6, 7, 8, 9]), sub_data2[2], sub_data2[3])\n",
    "sub_data12 = (sub_data12[0].numpy(),pd.DataFrame(sub_data12[1].numpy(), columns=[5, 6, 7, 8, 9]), sub_data12[2],sub_data12[3])\n",
    "voting = [pd.DataFrame(0.2 * x + 0.8 * y) for x, y in zip(sub_data12, joined_data)]\n",
    "prediction = pd.concat(voting, axis=1)\n",
    "prediction.to_csv('./IDRID/Labels/train/1Ensemble_predictions[0, 1].csv')"
   ]
  },
  {
   "cell_type": "code",
   "execution_count": 119,
   "id": "pregnant-smoke",
   "metadata": {},
   "outputs": [
    {
     "data": {
      "text/plain": [
       "(array([[4.05541309e-03, 3.28335102e-03, 4.27777691e-02, 9.49102835e-01,\n",
       "         7.80631910e-04],\n",
       "        [2.24160485e-04, 7.87970179e-04, 1.73442036e-02, 9.79406882e-01,\n",
       "         2.23678388e-03],\n",
       "        [6.33192856e-03, 1.68021640e-04, 8.65531700e-01, 1.15800236e-01,\n",
       "         1.21681141e-02],\n",
       "        ...,\n",
       "        [9.59466544e-03, 5.64239865e-02, 7.24803484e-01, 2.08392550e-01,\n",
       "         7.85314394e-04],\n",
       "        [1.03976372e-01, 2.16380992e-02, 6.98898421e-01, 1.70333539e-01,\n",
       "         5.15356811e-03],\n",
       "        [4.72629646e-01, 5.79917212e-02, 4.36213365e-01, 2.33541172e-02,\n",
       "         9.81114999e-03]]),\n",
       "             5         6         7         8         9\n",
       " 0    0.206127  0.205942  0.198028  0.195620  0.194284\n",
       " 1    0.212193  0.201360  0.195899  0.191591  0.198957\n",
       " 2    0.205312  0.197468  0.200694  0.194661  0.201865\n",
       " 3    0.210356  0.196307  0.195179  0.198778  0.199380\n",
       " 4    0.205578  0.197707  0.202610  0.195200  0.198905\n",
       " ..        ...       ...       ...       ...       ...\n",
       " 408  0.203388  0.201030  0.199595  0.196007  0.199980\n",
       " 409  0.216378  0.196229  0.195918  0.192281  0.199195\n",
       " 410  0.201039  0.206075  0.194929  0.201956  0.196001\n",
       " 411  0.202985  0.203392  0.196877  0.200638  0.196108\n",
       " 412  0.215965  0.197391  0.193283  0.192365  0.200996\n",
       " \n",
       " [413 rows x 5 columns],\n",
       "            10        11\n",
       " 0   -0.110345 -0.169646\n",
       " 1   -0.100888 -0.122031\n",
       " 2   -0.098228 -0.194814\n",
       " 3   -0.165850 -0.133682\n",
       " 4   -0.082324 -0.055430\n",
       " ..        ...       ...\n",
       " 408 -0.103135 -0.103373\n",
       " 409 -0.074209 -0.139743\n",
       " 410 -0.052893 -0.108452\n",
       " 411 -0.056894 -0.092103\n",
       " 412 -0.066807 -0.078652\n",
       " \n",
       " [413 rows x 2 columns],\n",
       "            12        13\n",
       " 0   -0.065756  0.031079\n",
       " 1   -0.042134  0.070256\n",
       " 2   -0.045485  0.078995\n",
       " 3   -0.085957  0.061024\n",
       " 4   -0.046033  0.071061\n",
       " ..        ...       ...\n",
       " 408 -0.090644  0.060738\n",
       " 409 -0.038998  0.070132\n",
       " 410 -0.004973  0.050894\n",
       " 411  0.024020  0.061848\n",
       " 412  0.003232  0.074296\n",
       " \n",
       " [413 rows x 2 columns])"
      ]
     },
     "execution_count": 119,
     "metadata": {},
     "output_type": "execute_result"
    }
   ],
   "source": [
    "joined_data"
   ]
  },
  {
   "cell_type": "code",
   "execution_count": 120,
   "id": "metropolitan-thompson",
   "metadata": {},
   "outputs": [
    {
     "data": {
      "text/plain": [
       "(array([[2.73525957e-01, 4.59170698e-02, 2.27686937e-04, 6.14494713e-01,\n",
       "         6.58345730e-02],\n",
       "        [5.78281960e-03, 3.48235541e-04, 3.32401171e-05, 9.93160134e-01,\n",
       "         6.75571225e-04],\n",
       "        [2.95293211e-01, 5.48627277e-01, 3.22522174e-02, 7.26112420e-02,\n",
       "         5.12160520e-02],\n",
       "        ...,\n",
       "        [4.82534317e-01, 3.26516552e-01, 3.49305618e-02, 1.29833095e-01,\n",
       "         2.61854743e-02],\n",
       "        [9.84392489e-01, 3.64106085e-04, 8.95981696e-03, 3.57473676e-03,\n",
       "         2.70885108e-03],\n",
       "        [5.99058488e-01, 3.25785092e-01, 4.39269413e-03, 3.53447949e-02,\n",
       "         3.54189305e-02]]),\n",
       "             5         6         7         8         9\n",
       " 0    0.935851  0.000043  0.064094  0.000006  0.000006\n",
       " 1    0.537305  0.000118  0.462535  0.000019  0.000022\n",
       " 2    0.868084  0.011716  0.119717  0.000244  0.000240\n",
       " 3    0.946976  0.001080  0.051838  0.000054  0.000052\n",
       " 4    0.940331  0.001312  0.058147  0.000107  0.000103\n",
       " ..        ...       ...       ...       ...       ...\n",
       " 408  0.455855  0.466186  0.073826  0.002209  0.001923\n",
       " 409  0.986372  0.005763  0.007737  0.000069  0.000059\n",
       " 410  0.936878  0.031732  0.030604  0.000402  0.000385\n",
       " 411  0.990472  0.003057  0.006415  0.000030  0.000026\n",
       " 412  0.984750  0.000293  0.014936  0.000011  0.000010\n",
       " \n",
       " [413 rows x 5 columns],\n",
       "            10        11\n",
       " 0   -0.087002  0.050255\n",
       " 1   -0.177414  0.096434\n",
       " 2   -0.109005  0.044770\n",
       " 3   -0.119115  0.117829\n",
       " 4   -0.097136  0.004820\n",
       " ..        ...       ...\n",
       " 408 -0.092405  0.015855\n",
       " 409 -0.092932  0.040510\n",
       " 410 -0.104883  0.041805\n",
       " 411 -0.105253  0.014069\n",
       " 412 -0.149865 -0.006100\n",
       " \n",
       " [413 rows x 2 columns],\n",
       "            12        13\n",
       " 0   -0.032582  0.037916\n",
       " 1   -0.063747  0.051741\n",
       " 2   -0.034161  0.086072\n",
       " 3   -0.099130  0.019514\n",
       " 4   -0.065611  0.081908\n",
       " ..        ...       ...\n",
       " 408 -0.040512  0.106675\n",
       " 409 -0.046687  0.083973\n",
       " 410 -0.057126  0.085837\n",
       " 411 -0.068295  0.071083\n",
       " 412 -0.075999  0.075065\n",
       " \n",
       " [413 rows x 2 columns])"
      ]
     },
     "execution_count": 120,
     "metadata": {},
     "output_type": "execute_result"
    }
   ],
   "source": [
    "sub_data12"
   ]
  },
  {
   "cell_type": "code",
   "execution_count": 125,
   "id": "tutorial-office",
   "metadata": {},
   "outputs": [],
   "source": [
    "W_T0 = torch.tensor([0.53, 2.13, 0.53, 0.74, 1.06])\n",
    "W_T1 = torch.tensor([0.6,1.8,0.6])"
   ]
  },
  {
   "cell_type": "code",
   "execution_count": 126,
   "id": "mounted-equity",
   "metadata": {},
   "outputs": [
    {
     "data": {
      "text/plain": [
       "tensor([ 0, 12,  1,  3,  4])"
      ]
     },
     "execution_count": 126,
     "metadata": {},
     "output_type": "execute_result"
    }
   ],
   "source": [
    "W_T1 = torch.tensor([0.6,1.8,0.6])"
   ]
  },
  {
   "cell_type": "code",
   "execution_count": 144,
   "id": "proof-transportation",
   "metadata": {},
   "outputs": [
    {
     "data": {
      "text/plain": [
       "array([3.37772397, 4.75786925, 3.3535109 , 4.10411622, 4.40677966])"
      ]
     },
     "execution_count": 144,
     "metadata": {},
     "output_type": "execute_result"
    }
   ],
   "source": [
    "x = np.array([134,20,136,74,49])\n",
    "(np.sum(x)-x)/np.mean(x)"
   ]
  },
  {
   "cell_type": "code",
   "execution_count": 141,
   "id": "textile-budget",
   "metadata": {},
   "outputs": [
    {
     "data": {
      "text/plain": [
       "array([0.53191489, 2.12765957, 0.53191489, 0.74468085, 1.06382979])"
      ]
     },
     "execution_count": 141,
     "metadata": {},
     "output_type": "execute_result"
    }
   ],
   "source": [
    "(np.array([1,4,1,1.4,2])/9.4)*5"
   ]
  }
 ],
 "metadata": {
  "kernelspec": {
   "display_name": "Python 3",
   "language": "python",
   "name": "python3"
  },
  "language_info": {
   "codemirror_mode": {
    "name": "ipython",
    "version": 3
   },
   "file_extension": ".py",
   "mimetype": "text/x-python",
   "name": "python",
   "nbconvert_exporter": "python",
   "pygments_lexer": "ipython3",
   "version": "3.7.4"
  }
 },
 "nbformat": 4,
 "nbformat_minor": 5
}
