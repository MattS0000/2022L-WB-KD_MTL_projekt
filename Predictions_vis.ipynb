{
 "cells": [
  {
   "cell_type": "code",
   "execution_count": 20,
   "id": "featured-cattle",
   "metadata": {},
   "outputs": [],
   "source": [
    "import pandas as pd\n",
    "import numpy as np\n",
    "from sklearn.metrics import accuracy_score, balanced_accuracy_score, confusion_matrix, f1_score, precision_score, recall_score"
   ]
  },
  {
   "cell_type": "code",
   "execution_count": 21,
   "id": "extra-fleet",
   "metadata": {},
   "outputs": [],
   "source": [
    "def metrics(true, pred):\n",
    "    print(\"Accuracy: \", accuracy_score(true, pred))\n",
    "    print(\"Balanced Accuracy: \", balanced_accuracy_score(true, pred))\n",
    "    print(\"F1 micro Score: \", f1_score(true, pred, average='micro'))\n",
    "    print(\"F1 macro Score: \", f1_score(true, pred, average='macro'))\n",
    "    print(\"Precision micro: \", precision_score(true, pred, average='micro'))\n",
    "    print(\"Precision macro: \", precision_score(true, pred, average='macro'))\n",
    "    print(\"Recall micro: \", recall_score(true, pred, average='micro'))\n",
    "    print(\"Recall macro: \", recall_score(true, pred, average='macro'))\n",
    "    print(\"Confusion Matrix\")\n",
    "    print(confusion_matrix(true, pred))"
   ]
  },
  {
   "cell_type": "code",
   "execution_count": 44,
   "id": "pretty-allen",
   "metadata": {},
   "outputs": [],
   "source": [
    "Labels_train = pd.read_csv('./IDRID/Labels/Train/labels.csv', index_col=0)\n",
    "Labels_test = pd.read_csv('./IDRID/Labels/Test/labels.csv', index_col=0)\n",
    "M2_test = pd.read_csv('./IDRID/Labels/Test/M2_predictions[0, 1].csv', index_col=0)\n",
    "M3_test = pd.read_csv('./IDRID/Labels/Test/M3_predictions[0, 1].csv', index_col=0)\n",
    "M1_0_train = pd.read_csv('./IDRID/Labels/Train/M1_predictions[0].csv', index_col=0)\n",
    "M1_01_train = pd.read_csv('./IDRID/Labels/Train/M1_predictions[0, 1].csv', index_col=0)\n",
    "M1_1_train = pd.read_csv('./IDRID/Labels/Train/M1_predictions[1].csv', index_col=0)\n",
    "Ensemble_train = pd.read_csv('./IDRID/Labels/Train/Ensemble_predictions[0, 1].csv', index_col=0)\n",
    "M2_train = pd.read_csv('./IDRID/Labels/Train/M2_predictions[0, 1].csv', index_col=0)\n",
    "M3_train = pd.read_csv('./IDRID/Labels/Train/M3_predictions[0, 1].csv', index_col=0)"
   ]
  },
  {
   "cell_type": "code",
   "execution_count": 57,
   "id": "hollow-passing",
   "metadata": {},
   "outputs": [
    {
     "data": {
      "text/html": [
       "<div>\n",
       "<style scoped>\n",
       "    .dataframe tbody tr th:only-of-type {\n",
       "        vertical-align: middle;\n",
       "    }\n",
       "\n",
       "    .dataframe tbody tr th {\n",
       "        vertical-align: top;\n",
       "    }\n",
       "\n",
       "    .dataframe thead th {\n",
       "        text-align: right;\n",
       "    }\n",
       "</style>\n",
       "<table border=\"1\" class=\"dataframe\">\n",
       "  <thead>\n",
       "    <tr style=\"text-align: right;\">\n",
       "      <th></th>\n",
       "      <th>Labels</th>\n",
       "      <th>M1_01</th>\n",
       "      <th>M1_0</th>\n",
       "      <th>M1_1</th>\n",
       "      <th>Ensemble</th>\n",
       "      <th>M2_preds</th>\n",
       "      <th>M3_preds</th>\n",
       "    </tr>\n",
       "  </thead>\n",
       "  <tbody>\n",
       "    <tr>\n",
       "      <th>2</th>\n",
       "      <td>195</td>\n",
       "      <td>191</td>\n",
       "      <td>357.0</td>\n",
       "      <td>148</td>\n",
       "      <td>193</td>\n",
       "      <td>184</td>\n",
       "      <td>73</td>\n",
       "    </tr>\n",
       "    <tr>\n",
       "      <th>0</th>\n",
       "      <td>177</td>\n",
       "      <td>165</td>\n",
       "      <td>NaN</td>\n",
       "      <td>225</td>\n",
       "      <td>163</td>\n",
       "      <td>187</td>\n",
       "      <td>315</td>\n",
       "    </tr>\n",
       "    <tr>\n",
       "      <th>1</th>\n",
       "      <td>41</td>\n",
       "      <td>57</td>\n",
       "      <td>56.0</td>\n",
       "      <td>40</td>\n",
       "      <td>57</td>\n",
       "      <td>42</td>\n",
       "      <td>25</td>\n",
       "    </tr>\n",
       "  </tbody>\n",
       "</table>\n",
       "</div>"
      ],
      "text/plain": [
       "   Labels  M1_01   M1_0  M1_1  Ensemble  M2_preds  M3_preds\n",
       "2     195    191  357.0   148       193       184        73\n",
       "0     177    165    NaN   225       163       187       315\n",
       "1      41     57   56.0    40        57        42        25"
      ]
     },
     "execution_count": 57,
     "metadata": {},
     "output_type": "execute_result"
    }
   ],
   "source": [
    "df_edema_train_counts = pd.DataFrame()\n",
    "df_edema_train_counts['Labels'] = Labels_train['Risk of macular edema'].value_counts()\n",
    "df_edema_train_counts['M1_01'] = (M1_01_train.iloc[:,5:8].idxmax(axis=1).astype(np.int64)-5).value_counts()\n",
    "df_edema_train_counts['M1_0'] = (M1_0_train.iloc[:,5:8].idxmax(axis=1).astype(np.int64)-5).value_counts()\n",
    "df_edema_train_counts['M1_1'] = (M1_1_train.iloc[:,5:8].idxmax(axis=1).astype(np.int64)-5).value_counts()\n",
    "df_edema_train_counts['Ensemble'] = (Ensemble_train.iloc[:,5:8].idxmax(axis=1).astype(np.int64)-5).value_counts()\n",
    "df_edema_train_counts['M2_preds'] = (M2_train.iloc[:,5:8].idxmax(axis=1).astype(np.int64)-5).value_counts()\n",
    "df_edema_train_counts['M3_preds'] = (M3_train.iloc[:,5:8].idxmax(axis=1).astype(np.int64)-5).value_counts()\n",
    "df_edema_train_counts"
   ]
  },
  {
   "cell_type": "code",
   "execution_count": 54,
   "id": "latest-cameroon",
   "metadata": {},
   "outputs": [
    {
     "data": {
      "text/html": [
       "<div>\n",
       "<style scoped>\n",
       "    .dataframe tbody tr th:only-of-type {\n",
       "        vertical-align: middle;\n",
       "    }\n",
       "\n",
       "    .dataframe tbody tr th {\n",
       "        vertical-align: top;\n",
       "    }\n",
       "\n",
       "    .dataframe thead th {\n",
       "        text-align: right;\n",
       "    }\n",
       "</style>\n",
       "<table border=\"1\" class=\"dataframe\">\n",
       "  <thead>\n",
       "    <tr style=\"text-align: right;\">\n",
       "      <th></th>\n",
       "      <th>Labels</th>\n",
       "      <th>M2_preds</th>\n",
       "      <th>M3_preds</th>\n",
       "    </tr>\n",
       "  </thead>\n",
       "  <tbody>\n",
       "    <tr>\n",
       "      <th>2</th>\n",
       "      <td>48</td>\n",
       "      <td>32</td>\n",
       "      <td>26</td>\n",
       "    </tr>\n",
       "    <tr>\n",
       "      <th>0</th>\n",
       "      <td>45</td>\n",
       "      <td>66</td>\n",
       "      <td>75</td>\n",
       "    </tr>\n",
       "    <tr>\n",
       "      <th>1</th>\n",
       "      <td>10</td>\n",
       "      <td>5</td>\n",
       "      <td>2</td>\n",
       "    </tr>\n",
       "  </tbody>\n",
       "</table>\n",
       "</div>"
      ],
      "text/plain": [
       "   Labels  M2_preds  M3_preds\n",
       "2      48        32        26\n",
       "0      45        66        75\n",
       "1      10         5         2"
      ]
     },
     "execution_count": 54,
     "metadata": {},
     "output_type": "execute_result"
    }
   ],
   "source": [
    "df_edema_test_counts = pd.DataFrame()\n",
    "df_edema_test_counts['Labels'] = Labels_test['Risk of macular edema'].value_counts()\n",
    "df_edema_test_counts['M2_preds'] = (M2_test.iloc[:,5:8].idxmax(axis=1).astype(np.int64)-5).value_counts()\n",
    "df_edema_test_counts['M3_preds'] = (M3_test.iloc[:,5:8].idxmax(axis=1).astype(np.int64)-5).value_counts()\n",
    "df_edema_test_counts"
   ]
  },
  {
   "cell_type": "code",
   "execution_count": 58,
   "id": "local-uzbekistan",
   "metadata": {},
   "outputs": [
    {
     "data": {
      "text/html": [
       "<div>\n",
       "<style scoped>\n",
       "    .dataframe tbody tr th:only-of-type {\n",
       "        vertical-align: middle;\n",
       "    }\n",
       "\n",
       "    .dataframe tbody tr th {\n",
       "        vertical-align: top;\n",
       "    }\n",
       "\n",
       "    .dataframe thead th {\n",
       "        text-align: right;\n",
       "    }\n",
       "</style>\n",
       "<table border=\"1\" class=\"dataframe\">\n",
       "  <thead>\n",
       "    <tr style=\"text-align: right;\">\n",
       "      <th></th>\n",
       "      <th>Labels</th>\n",
       "      <th>M1_01</th>\n",
       "      <th>M1_0</th>\n",
       "      <th>M1_1</th>\n",
       "      <th>Ensemble</th>\n",
       "      <th>M2_preds</th>\n",
       "      <th>M3_preds</th>\n",
       "    </tr>\n",
       "  </thead>\n",
       "  <tbody>\n",
       "    <tr>\n",
       "      <th>2</th>\n",
       "      <td>136</td>\n",
       "      <td>101</td>\n",
       "      <td>81</td>\n",
       "      <td>123.0</td>\n",
       "      <td>105</td>\n",
       "      <td>133</td>\n",
       "      <td>1.0</td>\n",
       "    </tr>\n",
       "    <tr>\n",
       "      <th>0</th>\n",
       "      <td>134</td>\n",
       "      <td>109</td>\n",
       "      <td>171</td>\n",
       "      <td>41.0</td>\n",
       "      <td>152</td>\n",
       "      <td>139</td>\n",
       "      <td>368.0</td>\n",
       "    </tr>\n",
       "    <tr>\n",
       "      <th>3</th>\n",
       "      <td>74</td>\n",
       "      <td>66</td>\n",
       "      <td>79</td>\n",
       "      <td>NaN</td>\n",
       "      <td>78</td>\n",
       "      <td>71</td>\n",
       "      <td>NaN</td>\n",
       "    </tr>\n",
       "    <tr>\n",
       "      <th>4</th>\n",
       "      <td>49</td>\n",
       "      <td>115</td>\n",
       "      <td>52</td>\n",
       "      <td>176.0</td>\n",
       "      <td>54</td>\n",
       "      <td>48</td>\n",
       "      <td>41.0</td>\n",
       "    </tr>\n",
       "    <tr>\n",
       "      <th>1</th>\n",
       "      <td>20</td>\n",
       "      <td>22</td>\n",
       "      <td>30</td>\n",
       "      <td>73.0</td>\n",
       "      <td>24</td>\n",
       "      <td>22</td>\n",
       "      <td>3.0</td>\n",
       "    </tr>\n",
       "  </tbody>\n",
       "</table>\n",
       "</div>"
      ],
      "text/plain": [
       "   Labels  M1_01  M1_0   M1_1  Ensemble  M2_preds  M3_preds\n",
       "2     136    101    81  123.0       105       133       1.0\n",
       "0     134    109   171   41.0       152       139     368.0\n",
       "3      74     66    79    NaN        78        71       NaN\n",
       "4      49    115    52  176.0        54        48      41.0\n",
       "1      20     22    30   73.0        24        22       3.0"
      ]
     },
     "execution_count": 58,
     "metadata": {},
     "output_type": "execute_result"
    }
   ],
   "source": [
    "df_retin_train_counts = pd.DataFrame()\n",
    "df_retin_train_counts['Labels'] = Labels_train['Retinopathy grade'].value_counts()\n",
    "df_retin_train_counts['M1_01'] = (M1_01_train.iloc[:,0:5].idxmax(axis=1).astype(np.int64)).value_counts()\n",
    "df_retin_train_counts['M1_0'] = (M1_0_train.iloc[:,0:5].idxmax(axis=1).astype(np.int64)).value_counts()\n",
    "df_retin_train_counts['M1_1'] = (M1_1_train.iloc[:,0:5].idxmax(axis=1).astype(np.int64)).value_counts()\n",
    "df_retin_train_counts['Ensemble'] = (Ensemble_train.iloc[:,0:5].idxmax(axis=1).astype(np.int64)).value_counts()\n",
    "df_retin_train_counts['M2_preds'] = (M2_train.iloc[:,0:5].idxmax(axis=1).astype(np.int64)).value_counts()\n",
    "df_retin_train_counts['M3_preds'] = (M3_train.iloc[:,0:5].idxmax(axis=1).astype(np.int64)).value_counts()\n",
    "df_retin_train_counts"
   ]
  },
  {
   "cell_type": "code",
   "execution_count": 52,
   "id": "patent-commercial",
   "metadata": {},
   "outputs": [
    {
     "data": {
      "text/html": [
       "<div>\n",
       "<style scoped>\n",
       "    .dataframe tbody tr th:only-of-type {\n",
       "        vertical-align: middle;\n",
       "    }\n",
       "\n",
       "    .dataframe tbody tr th {\n",
       "        vertical-align: top;\n",
       "    }\n",
       "\n",
       "    .dataframe thead th {\n",
       "        text-align: right;\n",
       "    }\n",
       "</style>\n",
       "<table border=\"1\" class=\"dataframe\">\n",
       "  <thead>\n",
       "    <tr style=\"text-align: right;\">\n",
       "      <th></th>\n",
       "      <th>Labels</th>\n",
       "      <th>M2_preds</th>\n",
       "      <th>M3_preds</th>\n",
       "    </tr>\n",
       "  </thead>\n",
       "  <tbody>\n",
       "    <tr>\n",
       "      <th>0</th>\n",
       "      <td>34</td>\n",
       "      <td>44</td>\n",
       "      <td>95.0</td>\n",
       "    </tr>\n",
       "    <tr>\n",
       "      <th>2</th>\n",
       "      <td>32</td>\n",
       "      <td>41</td>\n",
       "      <td>1.0</td>\n",
       "    </tr>\n",
       "    <tr>\n",
       "      <th>3</th>\n",
       "      <td>19</td>\n",
       "      <td>9</td>\n",
       "      <td>NaN</td>\n",
       "    </tr>\n",
       "    <tr>\n",
       "      <th>4</th>\n",
       "      <td>13</td>\n",
       "      <td>6</td>\n",
       "      <td>7.0</td>\n",
       "    </tr>\n",
       "    <tr>\n",
       "      <th>1</th>\n",
       "      <td>5</td>\n",
       "      <td>3</td>\n",
       "      <td>NaN</td>\n",
       "    </tr>\n",
       "  </tbody>\n",
       "</table>\n",
       "</div>"
      ],
      "text/plain": [
       "   Labels  M2_preds  M3_preds\n",
       "0      34        44      95.0\n",
       "2      32        41       1.0\n",
       "3      19         9       NaN\n",
       "4      13         6       7.0\n",
       "1       5         3       NaN"
      ]
     },
     "execution_count": 52,
     "metadata": {},
     "output_type": "execute_result"
    }
   ],
   "source": [
    "df_retin_test_counts = pd.DataFrame()\n",
    "df_retin_test_counts['Labels'] = Labels_test['Retinopathy grade'].value_counts()\n",
    "df_retin_test_counts['M2_preds'] = (M2_test.iloc[:,0:5].idxmax(axis=1).astype(np.int64)).value_counts()\n",
    "df_retin_test_counts['M3_preds'] = (M3_test.iloc[:,0:5].idxmax(axis=1).astype(np.int64)).value_counts()\n",
    "df_retin_test_counts"
   ]
  },
  {
   "cell_type": "code",
   "execution_count": 26,
   "id": "unusual-canal",
   "metadata": {},
   "outputs": [
    {
     "name": "stdout",
     "output_type": "stream",
     "text": [
      "Accuracy:  0.8595641646489104\n",
      "Balanced Accuracy:  0.9110095389507155\n",
      "F1 micro Score:  0.8595641646489104\n",
      "F1 macro Score:  0.8647267816516753\n",
      "Precision micro:  0.8595641646489104\n",
      "Precision macro:  0.8582668534367401\n",
      "Recall micro:  0.8595641646489104\n",
      "Recall macro:  0.9110095389507155\n",
      "Confusion Matrix\n",
      "[[134   0   0   0   0]\n",
      " [  0  20   0   0   0]\n",
      " [ 37   8  81   8   2]\n",
      " [  0   2   0  71   1]\n",
      " [  0   0   0   0  49]]\n"
     ]
    }
   ],
   "source": [
    "metrics(Labels_train['Retinopathy grade'], M1_0_train.iloc[:,0:5].idxmax(axis=1).astype(np.int64))"
   ]
  },
  {
   "cell_type": "code",
   "execution_count": 9,
   "id": "greenhouse-heaven",
   "metadata": {},
   "outputs": [
    {
     "name": "stdout",
     "output_type": "stream",
     "text": [
      "Accuracy:  0.7723970944309927\n",
      "Balanced Accuracy:  0.8435561719645502\n",
      "F1 micro Score:  0.7723970944309927\n",
      "F1 macro Score:  0.7996372618471346\n",
      "Precision micro:  0.7723970944309927\n",
      "Precision macro:  0.8133350997644639\n",
      "Recall micro:  0.7723970944309927\n",
      "Recall macro:  0.8435561719645502\n",
      "Confusion Matrix\n",
      "[[97  1  6  3 27]\n",
      " [ 0 20  0  0  0]\n",
      " [11  0 92  1 32]\n",
      " [ 0  1  3 62  8]\n",
      " [ 1  0  0  0 48]]\n"
     ]
    }
   ],
   "source": [
    "metrics(Labels_train['Retinopathy grade'], M1_01_train.iloc[:,0:5].idxmax(axis=1).astype(np.int64))"
   ]
  },
  {
   "cell_type": "code",
   "execution_count": 10,
   "id": "valued-warehouse",
   "metadata": {},
   "outputs": [
    {
     "name": "stdout",
     "output_type": "stream",
     "text": [
      "Accuracy:  0.8305084745762712\n",
      "Balanced Accuracy:  0.8742575691728233\n",
      "F1 micro Score:  0.8305084745762712\n",
      "F1 macro Score:  0.8320531982147159\n",
      "Precision micro:  0.8305084745762712\n",
      "Precision macro:  0.8058668804328765\n",
      "Recall micro:  0.8305084745762712\n",
      "Recall macro:  0.8742575691728233\n",
      "Confusion Matrix\n",
      "[[142   4  31]\n",
      " [  0  41   0]\n",
      " [ 23  12 160]]\n"
     ]
    }
   ],
   "source": [
    "metrics(Labels_train['Risk of macular edema'], (M1_01_train.iloc[:,5:8].idxmax(axis=1).astype(np.int64)-5))"
   ]
  },
  {
   "cell_type": "code",
   "execution_count": 11,
   "id": "racial-fashion",
   "metadata": {},
   "outputs": [
    {
     "name": "stdout",
     "output_type": "stream",
     "text": [
      "Accuracy:  0.8547215496368039\n",
      "Balanced Accuracy:  0.8899721930726479\n",
      "F1 micro Score:  0.8547215496368039\n",
      "F1 macro Score:  0.8887963092789302\n",
      "Precision micro:  0.8547215496368039\n",
      "Precision macro:  0.9064864864864864\n",
      "Recall micro:  0.8547215496368039\n",
      "Recall macro:  0.8899721930726479\n",
      "Confusion Matrix\n",
      "[[171   0   6]\n",
      " [  1  40   0]\n",
      " [ 53   0 142]]\n"
     ]
    }
   ],
   "source": [
    "metrics(Labels_train['Risk of macular edema'], (M1_1_train.iloc[:,5:8].idxmax(axis=1).astype(np.int64)-5))"
   ]
  },
  {
   "cell_type": "code",
   "execution_count": 14,
   "id": "noted-italian",
   "metadata": {},
   "outputs": [
    {
     "name": "stdout",
     "output_type": "stream",
     "text": [
      "Accuracy:  0.9176755447941889\n",
      "Balanced Accuracy:  0.9463036565977742\n",
      "F1 micro Score:  0.9176755447941889\n",
      "F1 macro Score:  0.9206379955510112\n",
      "Precision micro:  0.9176755447941889\n",
      "Precision macro:  0.9065152196731144\n",
      "Recall micro:  0.9176755447941889\n",
      "Recall macro:  0.9463036565977742\n",
      "Confusion Matrix\n",
      "[[134   0   0   0   0]\n",
      " [  0  20   0   0   0]\n",
      " [ 18   1 105   7   5]\n",
      " [  0   3   0  71   0]\n",
      " [  0   0   0   0  49]]\n"
     ]
    }
   ],
   "source": [
    "metrics(Labels_train['Retinopathy grade'], Ensemble_train.iloc[:,0:5].idxmax(axis=1).astype(np.int64))"
   ]
  },
  {
   "cell_type": "code",
   "execution_count": 15,
   "id": "cutting-waterproof",
   "metadata": {},
   "outputs": [
    {
     "name": "stdout",
     "output_type": "stream",
     "text": [
      "Accuracy:  0.8256658595641646\n",
      "Balanced Accuracy:  0.8704910908300739\n",
      "F1 micro Score:  0.8256658595641646\n",
      "F1 macro Score:  0.828335457894498\n",
      "Precision micro:  0.8256658595641646\n",
      "Precision macro:  0.802403165058986\n",
      "Recall micro:  0.8256658595641646\n",
      "Recall macro:  0.8704910908300739\n",
      "Confusion Matrix\n",
      "[[140   4  33]\n",
      " [  0  41   0]\n",
      " [ 23  12 160]]\n"
     ]
    }
   ],
   "source": [
    "metrics(Labels_train['Risk of macular edema'], (Ensemble_train.iloc[:,5:8].idxmax(axis=1).astype(np.int64)-5))"
   ]
  },
  {
   "cell_type": "code",
   "execution_count": 61,
   "id": "opening-agent",
   "metadata": {},
   "outputs": [
    {
     "name": "stdout",
     "output_type": "stream",
     "text": [
      "Accuracy:  0.2912621359223301\n",
      "Balanced Accuracy:  0.20025452488687784\n",
      "F1 micro Score:  0.2912621359223301\n",
      "F1 macro Score:  0.19026121679330044\n",
      "Precision micro:  0.2912621359223301\n",
      "Precision macro:  0.1982631189948263\n",
      "Recall micro:  0.2912621359223301\n",
      "Recall macro:  0.20025452488687784\n",
      "Confusion Matrix\n",
      "[[15  0 16  3  0]\n",
      " [ 2  0  1  2  0]\n",
      " [14  2 13  2  1]\n",
      " [ 7  0  9  0  3]\n",
      " [ 6  1  2  2  2]]\n"
     ]
    }
   ],
   "source": [
    "metrics(Labels_test['Retinopathy grade'], M2_test.iloc[:,0:5].idxmax(axis=1).astype(np.int64))"
   ]
  },
  {
   "cell_type": "code",
   "execution_count": 62,
   "id": "median-execution",
   "metadata": {},
   "outputs": [
    {
     "name": "stdout",
     "output_type": "stream",
     "text": [
      "Accuracy:  0.4563106796116505\n",
      "Balanced Accuracy:  0.34027777777777773\n",
      "F1 micro Score:  0.4563106796116505\n",
      "F1 macro Score:  0.3218468468468468\n",
      "Precision micro:  0.4563106796116505\n",
      "Precision macro:  0.32859848484848486\n",
      "Recall micro:  0.4563106796116505\n",
      "Recall macro:  0.34027777777777773\n",
      "Confusion Matrix\n",
      "[[30  5 10]\n",
      " [ 5  0  5]\n",
      " [31  0 17]]\n"
     ]
    }
   ],
   "source": [
    "metrics(Labels_test['Risk of macular edema'], (M2_test.iloc[:,5:8].idxmax(axis=1).astype(np.int64)-5))"
   ]
  },
  {
   "cell_type": "code",
   "execution_count": 18,
   "id": "golden-french",
   "metadata": {},
   "outputs": [
    {
     "name": "stdout",
     "output_type": "stream",
     "text": [
      "Accuracy:  0.7820823244552058\n",
      "Balanced Accuracy:  0.8577462449279833\n",
      "F1 micro Score:  0.7820823244552059\n",
      "F1 macro Score:  0.8038373878056984\n",
      "Precision micro:  0.7820823244552058\n",
      "Precision macro:  0.8257247396566283\n",
      "Recall micro:  0.7820823244552058\n",
      "Recall macro:  0.8577462449279833\n",
      "Confusion Matrix\n",
      "[[132   0   0   0   2]\n",
      " [  0  20   0   0   0]\n",
      " [ 54   1  56   2  23]\n",
      " [  1   3   1  66   3]\n",
      " [  0   0   0   0  49]]\n"
     ]
    }
   ],
   "source": [
    "metrics(Labels_train['Retinopathy grade'], M2_train.iloc[:,0:5].idxmax(axis=1).astype(np.int64))"
   ]
  },
  {
   "cell_type": "code",
   "execution_count": 19,
   "id": "velvet-bidding",
   "metadata": {},
   "outputs": [
    {
     "name": "stdout",
     "output_type": "stream",
     "text": [
      "Accuracy:  0.837772397094431\n",
      "Balanced Accuracy:  0.883731710850355\n",
      "F1 micro Score:  0.837772397094431\n",
      "F1 macro Score:  0.8214323266545943\n",
      "Precision micro:  0.837772397094431\n",
      "Precision macro:  0.8017178224074776\n",
      "Recall micro:  0.837772397094431\n",
      "Recall macro:  0.883731710850355\n",
      "Confusion Matrix\n",
      "[[167   3   7]\n",
      " [  0  41   0]\n",
      " [ 36  21 138]]\n"
     ]
    }
   ],
   "source": [
    "metrics(Labels_train['Risk of macular edema'], (M2_train.iloc[:,5:8].idxmax(axis=1).astype(np.int64)-5))"
   ]
  },
  {
   "cell_type": "code",
   "execution_count": 32,
   "id": "official-clarity",
   "metadata": {},
   "outputs": [
    {
     "name": "stdout",
     "output_type": "stream",
     "text": [
      "Accuracy:  0.11864406779661017\n",
      "Balanced Accuracy:  0.2\n",
      "F1 micro Score:  0.11864406779661017\n",
      "F1 macro Score:  0.04251626898047722\n",
      "Precision micro:  0.11864406779661017\n",
      "Precision macro:  0.023786407766990293\n",
      "Recall micro:  0.11864406779661017\n",
      "Recall macro:  0.2\n",
      "Confusion Matrix\n",
      "[[  0   0   0   0 134]\n",
      " [  0   0   0   0  20]\n",
      " [  1   0   0   0 135]\n",
      " [  0   0   0   0  74]\n",
      " [  0   0   0   0  49]]\n"
     ]
    },
    {
     "name": "stderr",
     "output_type": "stream",
     "text": [
      "C:\\Users\\mati2\\Anaconda\\lib\\site-packages\\sklearn\\metrics\\_classification.py:1308: UndefinedMetricWarning: Precision is ill-defined and being set to 0.0 in labels with no predicted samples. Use `zero_division` parameter to control this behavior.\n",
      "  _warn_prf(average, modifier, msg_start, len(result))\n"
     ]
    }
   ],
   "source": [
    "metrics(Labels_train['Retinopathy grade'], M3_train.iloc[:,0:5].idxmax(axis=1).astype(np.int64))"
   ]
  },
  {
   "cell_type": "code",
   "execution_count": 30,
   "id": "atlantic-hostel",
   "metadata": {},
   "outputs": [
    {
     "name": "stdout",
     "output_type": "stream",
     "text": [
      "Accuracy:  0.5375302663438256\n",
      "Balanced Accuracy:  0.38539765319426333\n",
      "F1 micro Score:  0.5375302663438256\n",
      "F1 macro Score:  0.3246572937778274\n",
      "Precision micro:  0.5375302663438256\n",
      "Precision macro:  0.41713067172136004\n",
      "Recall micro:  0.5375302663438256\n",
      "Recall macro:  0.38539765319426333\n",
      "Confusion Matrix\n",
      "[[ 34   0 143]\n",
      " [  5   0  36]\n",
      " [  7   0 188]]\n"
     ]
    },
    {
     "name": "stderr",
     "output_type": "stream",
     "text": [
      "C:\\Users\\mati2\\Anaconda\\lib\\site-packages\\sklearn\\metrics\\_classification.py:1308: UndefinedMetricWarning: Precision is ill-defined and being set to 0.0 in labels with no predicted samples. Use `zero_division` parameter to control this behavior.\n",
      "  _warn_prf(average, modifier, msg_start, len(result))\n"
     ]
    }
   ],
   "source": [
    "metrics(Labels_train['Risk of macular edema'], (M3_train.iloc[:,5:8].idxmax(axis=1).astype(np.int64)-5))"
   ]
  },
  {
   "cell_type": "code",
   "execution_count": 21,
   "id": "retained-source",
   "metadata": {},
   "outputs": [],
   "source": [
    "import torch\n",
    "from torchvision import transforms\n",
    "from itertools import combinations\n",
    "import pandas as pd\n",
    "from torch import nn\n",
    "from torch.utils.data import DataLoader\n",
    "from torch.nn.functional import softmax\n",
    "from torch.optim.lr_scheduler import ReduceLROnPlateau\n",
    "from Pipeline.Datasets import IDRiD_Dataset, IDRiD_Dataset_Teacher, IDRiD_Dataset_Unlabeled_Preds, IDRiD_Dataset2\n",
    "from Pipeline.Models import MTL"
   ]
  },
  {
   "cell_type": "code",
   "execution_count": 35,
   "id": "intended-citizenship",
   "metadata": {},
   "outputs": [],
   "source": [
    "def read_predictions(filename):\n",
    "        table = pd.read_csv(filename, index_col=0)\n",
    "        r_label, m_label = table.iloc[:, 0:5], table.iloc[:, 5:8]\n",
    "        r_label = softmax(torch.tensor(r_label.values), dim=-1)\n",
    "        m_label = softmax(torch.tensor(m_label.values), dim=-1)\n",
    "        f_coords, o_coords = table.iloc[:, 8:10], table.iloc[:, 10:]\n",
    "        return r_label, m_label, f_coords, o_coords"
   ]
  },
  {
   "cell_type": "code",
   "execution_count": 36,
   "id": "broken-chosen",
   "metadata": {},
   "outputs": [],
   "source": [
    "sub_data12 = read_predictions(\"./IDRID/Labels/train/M1_predictions[0, 1].csv\")\n",
    "sub_data1 = read_predictions(\"./IDRID/Labels/train/M1_predictions[0].csv\")\n",
    "sub_data2 = read_predictions(\"./IDRID/Labels/train/M1_predictions[1].csv\")\n",
    "joined_data = (sub_data1[0].numpy(),pd.DataFrame(sub_data1[1].numpy(), columns=[5, 6, 7]), sub_data2[2], sub_data2[3])\n",
    "sub_data12 = (sub_data12[0].numpy(),pd.DataFrame(sub_data12[1].numpy(), columns=[5, 6, 7]), sub_data12[2],sub_data12[3])\n",
    "voting = [pd.DataFrame(0.2 * x + 0.8 * y) for x, y in zip(sub_data12, joined_data)]\n",
    "prediction = pd.concat(voting, axis=1)\n",
    "prediction.to_csv('./IDRID/Labels/train/1Ensemble_predictions[0, 1].csv')"
   ]
  },
  {
   "cell_type": "code",
   "execution_count": 37,
   "id": "likely-platinum",
   "metadata": {},
   "outputs": [
    {
     "data": {
      "text/plain": [
       "(array([[1.37226527e-02, 8.10749700e-04, 2.50417604e-02, 9.54416917e-01,\n",
       "         6.00792058e-03],\n",
       "        [9.53399574e-04, 9.03124842e-04, 1.40959378e-02, 9.74389886e-01,\n",
       "         9.65765171e-03],\n",
       "        [3.37943449e-02, 5.19400023e-04, 7.50021268e-01, 1.83262924e-01,\n",
       "         3.24020630e-02],\n",
       "        ...,\n",
       "        [9.36401414e-02, 1.68986669e-01, 6.33094331e-01, 1.00561069e-01,\n",
       "         3.71778973e-03],\n",
       "        [4.04886411e-01, 9.04670351e-02, 4.62559113e-01, 4.14004215e-02,\n",
       "         6.87019475e-04],\n",
       "        [5.32143969e-01, 7.20674299e-02, 3.69605704e-01, 1.84505240e-02,\n",
       "         7.73237354e-03]]),\n",
       "             5         6         7\n",
       " 0    0.325315  0.330840  0.343845\n",
       " 1    0.328305  0.322704  0.348991\n",
       " 2    0.320232  0.322171  0.357596\n",
       " 3    0.308590  0.332945  0.358465\n",
       " 4    0.309564  0.327699  0.362738\n",
       " ..        ...       ...       ...\n",
       " 408  0.317819  0.319099  0.363083\n",
       " 409  0.322142  0.312340  0.365518\n",
       " 410  0.324496  0.326584  0.348920\n",
       " 411  0.325344  0.321691  0.352965\n",
       " 412  0.327600  0.311489  0.360912\n",
       " \n",
       " [413 rows x 3 columns],\n",
       "             8         9\n",
       " 0    0.054757 -0.027791\n",
       " 1    0.078914 -0.041805\n",
       " 2    0.073847  0.002927\n",
       " 3    0.070427 -0.017506\n",
       " 4    0.039574  0.011488\n",
       " ..        ...       ...\n",
       " 408  0.055753 -0.037717\n",
       " 409  0.057827 -0.038546\n",
       " 410  0.107866 -0.019024\n",
       " 411  0.057375  0.009577\n",
       " 412  0.111152 -0.032286\n",
       " \n",
       " [413 rows x 2 columns],\n",
       "            10        11\n",
       " 0   -0.003168 -0.037365\n",
       " 1   -0.017935 -0.008810\n",
       " 2   -0.030856 -0.007172\n",
       " 3   -0.044126 -0.034481\n",
       " 4   -0.024791 -0.037659\n",
       " ..        ...       ...\n",
       " 408 -0.077272  0.009691\n",
       " 409 -0.015796 -0.003664\n",
       " 410 -0.037774 -0.003043\n",
       " 411 -0.032237 -0.050262\n",
       " 412 -0.051288  0.000794\n",
       " \n",
       " [413 rows x 2 columns])"
      ]
     },
     "execution_count": 37,
     "metadata": {},
     "output_type": "execute_result"
    }
   ],
   "source": [
    "joined_data"
   ]
  },
  {
   "cell_type": "code",
   "execution_count": 38,
   "id": "rubber-growth",
   "metadata": {},
   "outputs": [
    {
     "data": {
      "text/plain": [
       "(array([[5.79746819e-02, 1.15883223e-02, 9.37517073e-02, 6.78125311e-01,\n",
       "         1.58559977e-01],\n",
       "        [2.49398401e-02, 6.80908952e-05, 2.86930728e-02, 9.45342247e-01,\n",
       "         9.56748931e-04],\n",
       "        [5.70891792e-03, 3.58551458e-03, 4.03923014e-01, 2.01758037e-02,\n",
       "         5.66606750e-01],\n",
       "        ...,\n",
       "        [6.07881833e-02, 2.04797572e-02, 7.56569990e-01, 8.55246789e-02,\n",
       "         7.66373907e-02],\n",
       "        [1.29787504e-01, 6.16141717e-05, 7.35678296e-01, 1.05387646e-02,\n",
       "         1.23933821e-01],\n",
       "        [3.73663633e-01, 6.31233920e-02, 4.38410162e-01, 6.73799667e-02,\n",
       "         5.74228469e-02]]),\n",
       "             5         6         7\n",
       " 0    0.151674  0.108880  0.739447\n",
       " 1    0.046161  0.000643  0.953197\n",
       " 2    0.022451  0.114514  0.863035\n",
       " 3    0.201466  0.432983  0.365552\n",
       " 4    0.273437  0.087845  0.638718\n",
       " ..        ...       ...       ...\n",
       " 408  0.000967  0.979315  0.019719\n",
       " 409  0.297467  0.102703  0.599830\n",
       " 410  0.144704  0.666906  0.188390\n",
       " 411  0.627761  0.042167  0.330072\n",
       " 412  0.872108  0.008181  0.119711\n",
       " \n",
       " [413 rows x 3 columns],\n",
       "             8         9\n",
       " 0   -0.049421 -0.025272\n",
       " 1   -0.028533 -0.085328\n",
       " 2   -0.090116  0.129164\n",
       " 3    0.013793 -0.024076\n",
       " 4   -0.037359  0.030287\n",
       " ..        ...       ...\n",
       " 408 -0.078948  0.159171\n",
       " 409 -0.074635  0.097629\n",
       " 410 -0.029634  0.050539\n",
       " 411 -0.101972  0.068874\n",
       " 412 -0.021209  0.016016\n",
       " \n",
       " [413 rows x 2 columns],\n",
       "            10        11\n",
       " 0   -0.157273 -0.048152\n",
       " 1   -0.092593 -0.066742\n",
       " 2   -0.048095 -0.061706\n",
       " 3   -0.136490 -0.034596\n",
       " 4   -0.072832 -0.013643\n",
       " ..        ...       ...\n",
       " 408 -0.075806 -0.061297\n",
       " 409 -0.068464 -0.070922\n",
       " 410 -0.086275 -0.001477\n",
       " 411 -0.069813 -0.057654\n",
       " 412 -0.161708  0.008103\n",
       " \n",
       " [413 rows x 2 columns])"
      ]
     },
     "execution_count": 38,
     "metadata": {},
     "output_type": "execute_result"
    }
   ],
   "source": [
    "sub_data12"
   ]
  },
  {
   "cell_type": "code",
   "execution_count": null,
   "id": "adjusted-taylor",
   "metadata": {},
   "outputs": [],
   "source": []
  }
 ],
 "metadata": {
  "kernelspec": {
   "display_name": "Python 3",
   "language": "python",
   "name": "python3"
  },
  "language_info": {
   "codemirror_mode": {
    "name": "ipython",
    "version": 3
   },
   "file_extension": ".py",
   "mimetype": "text/x-python",
   "name": "python",
   "nbconvert_exporter": "python",
   "pygments_lexer": "ipython3",
   "version": "3.7.4"
  }
 },
 "nbformat": 4,
 "nbformat_minor": 5
}
