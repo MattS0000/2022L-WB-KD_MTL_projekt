{
 "cells": [
  {
   "cell_type": "code",
   "execution_count": 1,
   "id": "educated-species",
   "metadata": {},
   "outputs": [],
   "source": [
    "import pandas as pd\n",
    "import numpy as np\n",
    "from sklearn.metrics import accuracy_score, balanced_accuracy_score, confusion_matrix, f1_score, precision_score, recall_score"
   ]
  },
  {
   "cell_type": "code",
   "execution_count": 2,
   "id": "vocational-chuck",
   "metadata": {},
   "outputs": [],
   "source": [
    "def metrics(true, pred):\n",
    "    print(\"Accuracy: \", accuracy_score(true, pred))\n",
    "    print(\"Balanced Accuracy: \", balanced_accuracy_score(true, pred))\n",
    "    print(\"F1 micro Score: \", f1_score(true, pred, average='micro'))\n",
    "    print(\"F1 macro Score: \", f1_score(true, pred, average='macro'))\n",
    "    print(\"Precision micro: \", precision_score(true, pred, average='micro'))\n",
    "    print(\"Precision macro: \", precision_score(true, pred, average='macro'))\n",
    "    print(\"Recall micro: \", recall_score(true, pred, average='micro'))\n",
    "    print(\"Recall macro: \", recall_score(true, pred, average='macro'))\n",
    "    print(\"Confusion Matrix\")\n",
    "    print(confusion_matrix(true, pred))"
   ]
  },
  {
   "cell_type": "code",
   "execution_count": 3,
   "id": "former-petroleum",
   "metadata": {},
   "outputs": [],
   "source": [
    "M3_train = pd.read_csv('./IDRID/Labels/Train/M3_predictions[0, 1].csv', index_col=0)\n",
    "M2_train = pd.read_csv('./IDRID/Labels/Train/M2_predictions[0, 1].csv', index_col=0)\n",
    "Ensemble_train = pd.read_csv('./IDRID/Labels/Train/Ensemble_predictions[0, 1].csv', index_col=0)\n",
    "Labels_train = pd.read_csv('./IDRID/Labels/Train/labels.csv', index_col=0)\n",
    "Labels_test = pd.read_csv('./IDRID/Labels/Test/labels.csv', index_col=0)\n",
    "M1_0_train = pd.read_csv('./IDRID/Labels/Train/M1_predictions[0].csv', index_col=0)\n",
    "M1_01_train = pd.read_csv('./IDRID/Labels/Train/M1_predictions[0, 1].csv', index_col=0)\n",
    "M1_1_train = pd.read_csv('./IDRID/Labels/Train/M1_predictions[1].csv', index_col=0)"
   ]
  },
  {
   "cell_type": "code",
   "execution_count": 4,
   "id": "pacific-rough",
   "metadata": {},
   "outputs": [
    {
     "data": {
      "text/plain": [
       "2    136\n",
       "0    134\n",
       "3     74\n",
       "4     49\n",
       "1     20\n",
       "Name: Retinopathy grade, dtype: int64"
      ]
     },
     "execution_count": 4,
     "metadata": {},
     "output_type": "execute_result"
    }
   ],
   "source": [
    "Labels_train['Retinopathy grade'].value_counts()"
   ]
  },
  {
   "cell_type": "code",
   "execution_count": 5,
   "id": "temporal-musician",
   "metadata": {},
   "outputs": [
    {
     "data": {
      "text/plain": [
       "2    195\n",
       "0    177\n",
       "1     41\n",
       "Name: Risk of macular edema, dtype: int64"
      ]
     },
     "execution_count": 5,
     "metadata": {},
     "output_type": "execute_result"
    }
   ],
   "source": [
    "Labels_train['Risk of macular edema'].value_counts()"
   ]
  },
  {
   "cell_type": "code",
   "execution_count": 6,
   "id": "legitimate-sacramento",
   "metadata": {},
   "outputs": [
    {
     "data": {
      "text/plain": [
       "2    48\n",
       "0    45\n",
       "1    10\n",
       "Name: Risk of macular edema, dtype: int64"
      ]
     },
     "execution_count": 6,
     "metadata": {},
     "output_type": "execute_result"
    }
   ],
   "source": [
    "Labels_test['Risk of macular edema'].value_counts()"
   ]
  },
  {
   "cell_type": "code",
   "execution_count": 7,
   "id": "second-prescription",
   "metadata": {},
   "outputs": [
    {
     "name": "stdout",
     "output_type": "stream",
     "text": [
      "Accuracy:  0.8595641646489104\n",
      "Balanced Accuracy:  0.9110095389507155\n",
      "F1 micro Score:  0.8595641646489104\n",
      "F1 macro Score:  0.8647267816516753\n",
      "Precision micro:  0.8595641646489104\n",
      "Precision macro:  0.8582668534367401\n",
      "Recall micro:  0.8595641646489104\n",
      "Recall macro:  0.9110095389507155\n",
      "Confusion Matrix\n",
      "[[134   0   0   0   0]\n",
      " [  0  20   0   0   0]\n",
      " [ 37   8  81   8   2]\n",
      " [  0   2   0  71   1]\n",
      " [  0   0   0   0  49]]\n"
     ]
    }
   ],
   "source": [
    "metrics(Labels_train['Retinopathy grade'], M1_0_train.iloc[:,0:5].idxmax(axis=1).astype(np.int64))"
   ]
  },
  {
   "cell_type": "code",
   "execution_count": 8,
   "id": "native-plaza",
   "metadata": {},
   "outputs": [
    {
     "name": "stdout",
     "output_type": "stream",
     "text": [
      "Accuracy:  0.7723970944309927\n",
      "Balanced Accuracy:  0.8435561719645502\n",
      "F1 micro Score:  0.7723970944309927\n",
      "F1 macro Score:  0.7996372618471346\n",
      "Precision micro:  0.7723970944309927\n",
      "Precision macro:  0.8133350997644639\n",
      "Recall micro:  0.7723970944309927\n",
      "Recall macro:  0.8435561719645502\n",
      "Confusion Matrix\n",
      "[[97  1  6  3 27]\n",
      " [ 0 20  0  0  0]\n",
      " [11  0 92  1 32]\n",
      " [ 0  1  3 62  8]\n",
      " [ 1  0  0  0 48]]\n"
     ]
    }
   ],
   "source": [
    "metrics(Labels_train['Retinopathy grade'], M1_01_train.iloc[:,0:5].idxmax(axis=1).astype(np.int64))"
   ]
  },
  {
   "cell_type": "code",
   "execution_count": 9,
   "id": "satisfied-internship",
   "metadata": {},
   "outputs": [
    {
     "name": "stdout",
     "output_type": "stream",
     "text": [
      "Accuracy:  0.8305084745762712\n",
      "Balanced Accuracy:  0.8742575691728233\n",
      "F1 micro Score:  0.8305084745762712\n",
      "F1 macro Score:  0.8320531982147159\n",
      "Precision micro:  0.8305084745762712\n",
      "Precision macro:  0.8058668804328765\n",
      "Recall micro:  0.8305084745762712\n",
      "Recall macro:  0.8742575691728233\n",
      "Confusion Matrix\n",
      "[[142   4  31]\n",
      " [  0  41   0]\n",
      " [ 23  12 160]]\n"
     ]
    }
   ],
   "source": [
    "metrics(Labels_train['Risk of macular edema'], (M1_01_train.iloc[:,5:8].idxmax(axis=1).astype(np.int64)-5))"
   ]
  },
  {
   "cell_type": "code",
   "execution_count": 10,
   "id": "requested-ireland",
   "metadata": {},
   "outputs": [
    {
     "name": "stdout",
     "output_type": "stream",
     "text": [
      "Accuracy:  0.8547215496368039\n",
      "Balanced Accuracy:  0.8899721930726479\n",
      "F1 micro Score:  0.8547215496368039\n",
      "F1 macro Score:  0.8887963092789302\n",
      "Precision micro:  0.8547215496368039\n",
      "Precision macro:  0.9064864864864864\n",
      "Recall micro:  0.8547215496368039\n",
      "Recall macro:  0.8899721930726479\n",
      "Confusion Matrix\n",
      "[[171   0   6]\n",
      " [  1  40   0]\n",
      " [ 53   0 142]]\n"
     ]
    }
   ],
   "source": [
    "metrics(Labels_train['Risk of macular edema'], (M1_1_train.iloc[:,5:8].idxmax(axis=1).astype(np.int64)-5))"
   ]
  },
  {
   "cell_type": "code",
   "execution_count": 11,
   "id": "medium-fundamental",
   "metadata": {},
   "outputs": [
    {
     "data": {
      "text/plain": [
       "0    152\n",
       "2    105\n",
       "3     78\n",
       "4     54\n",
       "1     24\n",
       "dtype: int64"
      ]
     },
     "execution_count": 11,
     "metadata": {},
     "output_type": "execute_result"
    }
   ],
   "source": [
    "Ensemble_train.iloc[:,0:5].idxmax(axis=1).value_counts()"
   ]
  },
  {
   "cell_type": "code",
   "execution_count": 12,
   "id": "perceived-victory",
   "metadata": {},
   "outputs": [
    {
     "data": {
      "text/plain": [
       "2    193\n",
       "0    163\n",
       "1     57\n",
       "dtype: int64"
      ]
     },
     "execution_count": 12,
     "metadata": {},
     "output_type": "execute_result"
    }
   ],
   "source": [
    "(Ensemble_train.iloc[:,5:8].idxmax(axis=1).astype(np.int64)-5).value_counts()"
   ]
  },
  {
   "cell_type": "code",
   "execution_count": 13,
   "id": "later-blast",
   "metadata": {},
   "outputs": [
    {
     "name": "stdout",
     "output_type": "stream",
     "text": [
      "Accuracy:  0.9176755447941889\n",
      "Balanced Accuracy:  0.9463036565977742\n",
      "F1 micro Score:  0.9176755447941889\n",
      "F1 macro Score:  0.9206379955510112\n",
      "Precision micro:  0.9176755447941889\n",
      "Precision macro:  0.9065152196731144\n",
      "Recall micro:  0.9176755447941889\n",
      "Recall macro:  0.9463036565977742\n",
      "Confusion Matrix\n",
      "[[134   0   0   0   0]\n",
      " [  0  20   0   0   0]\n",
      " [ 18   1 105   7   5]\n",
      " [  0   3   0  71   0]\n",
      " [  0   0   0   0  49]]\n"
     ]
    }
   ],
   "source": [
    "metrics(Labels_train['Retinopathy grade'], Ensemble_train.iloc[:,0:5].idxmax(axis=1).astype(np.int64))"
   ]
  },
  {
   "cell_type": "code",
   "execution_count": 14,
   "id": "psychological-karen",
   "metadata": {},
   "outputs": [
    {
     "name": "stdout",
     "output_type": "stream",
     "text": [
      "Accuracy:  0.8256658595641646\n",
      "Balanced Accuracy:  0.8704910908300739\n",
      "F1 micro Score:  0.8256658595641646\n",
      "F1 macro Score:  0.828335457894498\n",
      "Precision micro:  0.8256658595641646\n",
      "Precision macro:  0.802403165058986\n",
      "Recall micro:  0.8256658595641646\n",
      "Recall macro:  0.8704910908300739\n",
      "Confusion Matrix\n",
      "[[140   4  33]\n",
      " [  0  41   0]\n",
      " [ 23  12 160]]\n"
     ]
    }
   ],
   "source": [
    "metrics(Labels_train['Risk of macular edema'], (Ensemble_train.iloc[:,5:8].idxmax(axis=1).astype(np.int64)-5))"
   ]
  },
  {
   "cell_type": "code",
   "execution_count": 15,
   "id": "blank-mambo",
   "metadata": {},
   "outputs": [
    {
     "data": {
      "text/plain": [
       "4    201\n",
       "0     98\n",
       "3     49\n",
       "2     44\n",
       "1     21\n",
       "dtype: int64"
      ]
     },
     "execution_count": 15,
     "metadata": {},
     "output_type": "execute_result"
    }
   ],
   "source": [
    "M2_train.iloc[:,0:5].idxmax(axis=1).value_counts()"
   ]
  },
  {
   "cell_type": "code",
   "execution_count": 16,
   "id": "polar-uzbekistan",
   "metadata": {},
   "outputs": [
    {
     "data": {
      "text/plain": [
       "7    249\n",
       "5    129\n",
       "6     35\n",
       "dtype: int64"
      ]
     },
     "execution_count": 16,
     "metadata": {},
     "output_type": "execute_result"
    }
   ],
   "source": [
    "M2_train.iloc[:,5:8].idxmax(axis=1).value_counts()"
   ]
  },
  {
   "cell_type": "code",
   "execution_count": 17,
   "id": "married-hierarchy",
   "metadata": {},
   "outputs": [
    {
     "name": "stdout",
     "output_type": "stream",
     "text": [
      "Accuracy:  0.6077481840193705\n",
      "Balanced Accuracy:  0.727575753980495\n",
      "F1 micro Score:  0.6077481840193705\n",
      "F1 macro Score:  0.6805437248855247\n",
      "Precision micro:  0.6077481840193705\n",
      "Precision macro:  0.8142787915709025\n",
      "Recall micro:  0.6077481840193705\n",
      "Recall macro:  0.727575753980495\n",
      "Confusion Matrix\n",
      "[[92  0  1  0 41]\n",
      " [ 0 20  0  0  0]\n",
      " [ 6  0 43  2 85]\n",
      " [ 0  1  0 47 26]\n",
      " [ 0  0  0  0 49]]\n"
     ]
    }
   ],
   "source": [
    "metrics(Labels_train['Retinopathy grade'], M2_train.iloc[:,0:5].idxmax(axis=1).astype(np.int64))"
   ]
  },
  {
   "cell_type": "code",
   "execution_count": 18,
   "id": "supreme-unknown",
   "metadata": {},
   "outputs": [
    {
     "name": "stdout",
     "output_type": "stream",
     "text": [
      "Accuracy:  0.8498789346246973\n",
      "Balanced Accuracy:  0.8275391045957395\n",
      "F1 micro Score:  0.8498789346246973\n",
      "F1 macro Score:  0.8456784958332947\n",
      "Precision micro:  0.8498789346246973\n",
      "Precision macro:  0.8899553918887065\n",
      "Recall micro:  0.8498789346246973\n",
      "Recall macro:  0.8275391045957395\n",
      "Confusion Matrix\n",
      "[[127   2  48]\n",
      " [  0  32   9]\n",
      " [  2   1 192]]\n"
     ]
    }
   ],
   "source": [
    "metrics(Labels_train['Risk of macular edema'], (M2_train.iloc[:,5:8].idxmax(axis=1).astype(np.int64)-5))"
   ]
  },
  {
   "cell_type": "code",
   "execution_count": 19,
   "id": "engaging-assault",
   "metadata": {},
   "outputs": [
    {
     "data": {
      "text/plain": [
       "4    412\n",
       "0      1\n",
       "dtype: int64"
      ]
     },
     "execution_count": 19,
     "metadata": {},
     "output_type": "execute_result"
    }
   ],
   "source": [
    "M3_train.iloc[:,0:5].idxmax(axis=1).value_counts()"
   ]
  },
  {
   "cell_type": "code",
   "execution_count": 20,
   "id": "piano-india",
   "metadata": {},
   "outputs": [
    {
     "data": {
      "text/plain": [
       "7    367\n",
       "5     46\n",
       "dtype: int64"
      ]
     },
     "execution_count": 20,
     "metadata": {},
     "output_type": "execute_result"
    }
   ],
   "source": [
    "M3_train.iloc[:,5:8].idxmax(axis=1).value_counts()"
   ]
  },
  {
   "cell_type": "code",
   "execution_count": 32,
   "id": "distinguished-airplane",
   "metadata": {},
   "outputs": [
    {
     "name": "stdout",
     "output_type": "stream",
     "text": [
      "Accuracy:  0.11864406779661017\n",
      "Balanced Accuracy:  0.2\n",
      "F1 micro Score:  0.11864406779661017\n",
      "F1 macro Score:  0.04251626898047722\n",
      "Precision micro:  0.11864406779661017\n",
      "Precision macro:  0.023786407766990293\n",
      "Recall micro:  0.11864406779661017\n",
      "Recall macro:  0.2\n",
      "Confusion Matrix\n",
      "[[  0   0   0   0 134]\n",
      " [  0   0   0   0  20]\n",
      " [  1   0   0   0 135]\n",
      " [  0   0   0   0  74]\n",
      " [  0   0   0   0  49]]\n"
     ]
    },
    {
     "name": "stderr",
     "output_type": "stream",
     "text": [
      "C:\\Users\\mati2\\Anaconda\\lib\\site-packages\\sklearn\\metrics\\_classification.py:1308: UndefinedMetricWarning: Precision is ill-defined and being set to 0.0 in labels with no predicted samples. Use `zero_division` parameter to control this behavior.\n",
      "  _warn_prf(average, modifier, msg_start, len(result))\n"
     ]
    }
   ],
   "source": [
    "metrics(Labels_train['Retinopathy grade'], M3_train.iloc[:,0:5].idxmax(axis=1).astype(np.int64))"
   ]
  },
  {
   "cell_type": "code",
   "execution_count": 30,
   "id": "resident-bikini",
   "metadata": {},
   "outputs": [
    {
     "name": "stdout",
     "output_type": "stream",
     "text": [
      "Accuracy:  0.5375302663438256\n",
      "Balanced Accuracy:  0.38539765319426333\n",
      "F1 micro Score:  0.5375302663438256\n",
      "F1 macro Score:  0.3246572937778274\n",
      "Precision micro:  0.5375302663438256\n",
      "Precision macro:  0.41713067172136004\n",
      "Recall micro:  0.5375302663438256\n",
      "Recall macro:  0.38539765319426333\n",
      "Confusion Matrix\n",
      "[[ 34   0 143]\n",
      " [  5   0  36]\n",
      " [  7   0 188]]\n"
     ]
    },
    {
     "name": "stderr",
     "output_type": "stream",
     "text": [
      "C:\\Users\\mati2\\Anaconda\\lib\\site-packages\\sklearn\\metrics\\_classification.py:1308: UndefinedMetricWarning: Precision is ill-defined and being set to 0.0 in labels with no predicted samples. Use `zero_division` parameter to control this behavior.\n",
      "  _warn_prf(average, modifier, msg_start, len(result))\n"
     ]
    }
   ],
   "source": [
    "metrics(Labels_train['Risk of macular edema'], (M3_train.iloc[:,5:8].idxmax(axis=1).astype(np.int64)-5))"
   ]
  },
  {
   "cell_type": "code",
   "execution_count": 21,
   "id": "economic-vietnam",
   "metadata": {},
   "outputs": [],
   "source": [
    "import torch\n",
    "from torchvision import transforms\n",
    "from itertools import combinations\n",
    "import pandas as pd\n",
    "from torch import nn\n",
    "from torch.utils.data import DataLoader\n",
    "from torch.nn.functional import softmax\n",
    "from torch.optim.lr_scheduler import ReduceLROnPlateau\n",
    "from Pipeline.Datasets import IDRiD_Dataset, IDRiD_Dataset_Teacher, IDRiD_Dataset_Unlabeled_Preds, IDRiD_Dataset2\n",
    "from Pipeline.Models import MTL"
   ]
  },
  {
   "cell_type": "code",
   "execution_count": 35,
   "id": "present-parker",
   "metadata": {},
   "outputs": [],
   "source": [
    "def read_predictions(filename):\n",
    "        table = pd.read_csv(filename, index_col=0)\n",
    "        r_label, m_label = table.iloc[:, 0:5], table.iloc[:, 5:8]\n",
    "        r_label = softmax(torch.tensor(r_label.values), dim=-1)\n",
    "        m_label = softmax(torch.tensor(m_label.values), dim=-1)\n",
    "        f_coords, o_coords = table.iloc[:, 8:10], table.iloc[:, 10:]\n",
    "        return r_label, m_label, f_coords, o_coords"
   ]
  },
  {
   "cell_type": "code",
   "execution_count": 36,
   "id": "apparent-return",
   "metadata": {},
   "outputs": [],
   "source": [
    "sub_data12 = read_predictions(\"./IDRID/Labels/train/M1_predictions[0, 1].csv\")\n",
    "sub_data1 = read_predictions(\"./IDRID/Labels/train/M1_predictions[0].csv\")\n",
    "sub_data2 = read_predictions(\"./IDRID/Labels/train/M1_predictions[1].csv\")\n",
    "joined_data = (sub_data1[0].numpy(),pd.DataFrame(sub_data1[1].numpy(), columns=[5, 6, 7]), sub_data2[2], sub_data2[3])\n",
    "sub_data12 = (sub_data12[0].numpy(),pd.DataFrame(sub_data12[1].numpy(), columns=[5, 6, 7]), sub_data12[2],sub_data12[3])\n",
    "voting = [pd.DataFrame(0.2 * x + 0.8 * y) for x, y in zip(sub_data12, joined_data)]\n",
    "prediction = pd.concat(voting, axis=1)\n",
    "prediction.to_csv('./IDRID/Labels/train/1Ensemble_predictions[0, 1].csv')"
   ]
  },
  {
   "cell_type": "code",
   "execution_count": 37,
   "id": "weird-austin",
   "metadata": {},
   "outputs": [
    {
     "data": {
      "text/plain": [
       "(array([[1.37226527e-02, 8.10749700e-04, 2.50417604e-02, 9.54416917e-01,\n",
       "         6.00792058e-03],\n",
       "        [9.53399574e-04, 9.03124842e-04, 1.40959378e-02, 9.74389886e-01,\n",
       "         9.65765171e-03],\n",
       "        [3.37943449e-02, 5.19400023e-04, 7.50021268e-01, 1.83262924e-01,\n",
       "         3.24020630e-02],\n",
       "        ...,\n",
       "        [9.36401414e-02, 1.68986669e-01, 6.33094331e-01, 1.00561069e-01,\n",
       "         3.71778973e-03],\n",
       "        [4.04886411e-01, 9.04670351e-02, 4.62559113e-01, 4.14004215e-02,\n",
       "         6.87019475e-04],\n",
       "        [5.32143969e-01, 7.20674299e-02, 3.69605704e-01, 1.84505240e-02,\n",
       "         7.73237354e-03]]),\n",
       "             5         6         7\n",
       " 0    0.325315  0.330840  0.343845\n",
       " 1    0.328305  0.322704  0.348991\n",
       " 2    0.320232  0.322171  0.357596\n",
       " 3    0.308590  0.332945  0.358465\n",
       " 4    0.309564  0.327699  0.362738\n",
       " ..        ...       ...       ...\n",
       " 408  0.317819  0.319099  0.363083\n",
       " 409  0.322142  0.312340  0.365518\n",
       " 410  0.324496  0.326584  0.348920\n",
       " 411  0.325344  0.321691  0.352965\n",
       " 412  0.327600  0.311489  0.360912\n",
       " \n",
       " [413 rows x 3 columns],\n",
       "             8         9\n",
       " 0    0.054757 -0.027791\n",
       " 1    0.078914 -0.041805\n",
       " 2    0.073847  0.002927\n",
       " 3    0.070427 -0.017506\n",
       " 4    0.039574  0.011488\n",
       " ..        ...       ...\n",
       " 408  0.055753 -0.037717\n",
       " 409  0.057827 -0.038546\n",
       " 410  0.107866 -0.019024\n",
       " 411  0.057375  0.009577\n",
       " 412  0.111152 -0.032286\n",
       " \n",
       " [413 rows x 2 columns],\n",
       "            10        11\n",
       " 0   -0.003168 -0.037365\n",
       " 1   -0.017935 -0.008810\n",
       " 2   -0.030856 -0.007172\n",
       " 3   -0.044126 -0.034481\n",
       " 4   -0.024791 -0.037659\n",
       " ..        ...       ...\n",
       " 408 -0.077272  0.009691\n",
       " 409 -0.015796 -0.003664\n",
       " 410 -0.037774 -0.003043\n",
       " 411 -0.032237 -0.050262\n",
       " 412 -0.051288  0.000794\n",
       " \n",
       " [413 rows x 2 columns])"
      ]
     },
     "execution_count": 37,
     "metadata": {},
     "output_type": "execute_result"
    }
   ],
   "source": [
    "joined_data"
   ]
  },
  {
   "cell_type": "code",
   "execution_count": 38,
   "id": "structured-cyprus",
   "metadata": {},
   "outputs": [
    {
     "data": {
      "text/plain": [
       "(array([[5.79746819e-02, 1.15883223e-02, 9.37517073e-02, 6.78125311e-01,\n",
       "         1.58559977e-01],\n",
       "        [2.49398401e-02, 6.80908952e-05, 2.86930728e-02, 9.45342247e-01,\n",
       "         9.56748931e-04],\n",
       "        [5.70891792e-03, 3.58551458e-03, 4.03923014e-01, 2.01758037e-02,\n",
       "         5.66606750e-01],\n",
       "        ...,\n",
       "        [6.07881833e-02, 2.04797572e-02, 7.56569990e-01, 8.55246789e-02,\n",
       "         7.66373907e-02],\n",
       "        [1.29787504e-01, 6.16141717e-05, 7.35678296e-01, 1.05387646e-02,\n",
       "         1.23933821e-01],\n",
       "        [3.73663633e-01, 6.31233920e-02, 4.38410162e-01, 6.73799667e-02,\n",
       "         5.74228469e-02]]),\n",
       "             5         6         7\n",
       " 0    0.151674  0.108880  0.739447\n",
       " 1    0.046161  0.000643  0.953197\n",
       " 2    0.022451  0.114514  0.863035\n",
       " 3    0.201466  0.432983  0.365552\n",
       " 4    0.273437  0.087845  0.638718\n",
       " ..        ...       ...       ...\n",
       " 408  0.000967  0.979315  0.019719\n",
       " 409  0.297467  0.102703  0.599830\n",
       " 410  0.144704  0.666906  0.188390\n",
       " 411  0.627761  0.042167  0.330072\n",
       " 412  0.872108  0.008181  0.119711\n",
       " \n",
       " [413 rows x 3 columns],\n",
       "             8         9\n",
       " 0   -0.049421 -0.025272\n",
       " 1   -0.028533 -0.085328\n",
       " 2   -0.090116  0.129164\n",
       " 3    0.013793 -0.024076\n",
       " 4   -0.037359  0.030287\n",
       " ..        ...       ...\n",
       " 408 -0.078948  0.159171\n",
       " 409 -0.074635  0.097629\n",
       " 410 -0.029634  0.050539\n",
       " 411 -0.101972  0.068874\n",
       " 412 -0.021209  0.016016\n",
       " \n",
       " [413 rows x 2 columns],\n",
       "            10        11\n",
       " 0   -0.157273 -0.048152\n",
       " 1   -0.092593 -0.066742\n",
       " 2   -0.048095 -0.061706\n",
       " 3   -0.136490 -0.034596\n",
       " 4   -0.072832 -0.013643\n",
       " ..        ...       ...\n",
       " 408 -0.075806 -0.061297\n",
       " 409 -0.068464 -0.070922\n",
       " 410 -0.086275 -0.001477\n",
       " 411 -0.069813 -0.057654\n",
       " 412 -0.161708  0.008103\n",
       " \n",
       " [413 rows x 2 columns])"
      ]
     },
     "execution_count": 38,
     "metadata": {},
     "output_type": "execute_result"
    }
   ],
   "source": [
    "sub_data12"
   ]
  },
  {
   "cell_type": "code",
   "execution_count": 39,
   "id": "charged-constant",
   "metadata": {},
   "outputs": [],
   "source": [
    "W_T0 = torch.tensor([0.53, 2.13, 0.53, 0.74, 1.06])\n",
    "W_T1 = torch.tensor([0.6,1.8,0.6])"
   ]
  },
  {
   "cell_type": "code",
   "execution_count": 40,
   "id": "indie-lender",
   "metadata": {},
   "outputs": [],
   "source": [
    "W_T1 = torch.tensor([0.6,1.8,0.6])"
   ]
  },
  {
   "cell_type": "code",
   "execution_count": 41,
   "id": "blocked-extreme",
   "metadata": {},
   "outputs": [
    {
     "data": {
      "text/plain": [
       "array([3.37772397, 4.75786925, 3.3535109 , 4.10411622, 4.40677966])"
      ]
     },
     "execution_count": 41,
     "metadata": {},
     "output_type": "execute_result"
    }
   ],
   "source": [
    "x = np.array([134,20,136,74,49])\n",
    "(np.sum(x)-x)/np.mean(x)"
   ]
  },
  {
   "cell_type": "code",
   "execution_count": 42,
   "id": "biblical-consciousness",
   "metadata": {},
   "outputs": [
    {
     "data": {
      "text/plain": [
       "array([0.53191489, 2.12765957, 0.53191489, 0.74468085, 1.06382979])"
      ]
     },
     "execution_count": 42,
     "metadata": {},
     "output_type": "execute_result"
    }
   ],
   "source": [
    "(np.array([1,4,1,1.4,2])/9.4)*5"
   ]
  },
  {
   "cell_type": "code",
   "execution_count": null,
   "id": "enormous-friday",
   "metadata": {},
   "outputs": [],
   "source": []
  }
 ],
 "metadata": {
  "kernelspec": {
   "display_name": "Python 3",
   "language": "python",
   "name": "python3"
  },
  "language_info": {
   "codemirror_mode": {
    "name": "ipython",
    "version": 3
   },
   "file_extension": ".py",
   "mimetype": "text/x-python",
   "name": "python",
   "nbconvert_exporter": "python",
   "pygments_lexer": "ipython3",
   "version": "3.7.4"
  }
 },
 "nbformat": 4,
 "nbformat_minor": 5
}
