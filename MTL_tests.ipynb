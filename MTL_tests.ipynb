{
 "cells": [
  {
   "cell_type": "code",
   "execution_count": null,
   "metadata": {},
   "outputs": [],
   "source": [
    "import torchvision.models as models\n",
    "import torch\n",
    "from torchvision import transforms\n",
    "from PIL import Image\n",
    "import numpy as np\n",
    "from torch import nn\n",
    "from dataset import IDRiD_Dataset\n",
    "from torch.utils.data import DataLoader\n",
    "from torch.optim.lr_scheduler import ReduceLROnPlateau\n"
   ]
  },
  {
   "cell_type": "code",
   "execution_count": null,
   "metadata": {},
   "outputs": [],
   "source": [
    "class MTL(nn.Module):\n",
    "    def __init__(self):\n",
    "        super(MTL, self).__init__()\n",
    "        resnet50 = models.resnet50(pretrained=True)\n",
    "        self.features = torch.nn.Sequential(*(list(resnet50.children())[:-1]))\n",
    "        self.last = nn.Sequential(nn.Linear(2048, 1024),nn.ReLU())\n",
    "        self.retinopathy_classifier = nn.Sequential(nn.Linear(1024, 512),nn.ReLU(), nn.Linear(512, 5), nn.Softmax(dim=1))\n",
    "        self.macular_edema_classifier = nn.Sequential(nn.Linear(1024, 512),nn.ReLU(), nn.Linear(512, 5), nn.Softmax(dim=1))\n",
    "        self.fovea_center_cords = nn.Sequential(nn.Linear(1024, 512),nn.ReLU(), nn.Linear(512, 2))\n",
    "        self.optical_disk_cords = nn.Sequential(nn.Linear(1024, 512),nn.ReLU(), nn.Linear(512, 2))\n",
    "\n",
    "    def forward(self,data):\n",
    "        out = self.features.forward(data).squeeze()\n",
    "        out = self.last.forward(out)\n",
    "        return (self.retinopathy_classifier(out),\n",
    "                self.macular_edema_classifier(out),\n",
    "                self.fovea_center_cords(out),\n",
    "                self.optical_disk_cords(out))\n"
   ]
  },
  {
   "cell_type": "code",
   "execution_count": null,
   "metadata": {},
   "outputs": [],
   "source": [
    "#50x25 just for implementing\n",
    "data_transformer = transforms.Compose([transforms.Resize((50,25)),transforms.ToTensor()])\n",
    "train_ds = IDRiD_Dataset(data_transformer,'train')\n",
    "train_dl = DataLoader(train_ds,batch_size=32,shuffle=True)\n",
    "mtl = MTL()"
   ]
  },
  {
   "cell_type": "code",
   "execution_count": null,
   "metadata": {},
   "outputs": [],
   "source": [
    "class MTL_trainer():\n",
    "    def __init__(self,mtl,optimizer, scheduler, criterion, tasks, epochs):\n",
    "        self.mtl = mtl\n",
    "        self.optimizer = optimizer\n",
    "        self.scheduler = scheduler\n",
    "        self.criterion = criterion\n",
    "        self.tasks = tasks\n",
    "        self.epochs = epochs\n",
    "\n",
    "    def train(self,train_dl):\n",
    "        for e in range(self.epochs):\n",
    "            self.mtl.train()\n",
    "            print(self.train_iter(train_dl))\n",
    "            \n",
    "\n",
    "    def train_iter(self, train_dl):\n",
    "        train_loss = 0.0\n",
    "        loss = torch.tensor(0)\n",
    "        for i, (imgs, retinopathy_label, macular_edema_label, fovea_center_labels, optical_disk_labels) in enumerate(train_dl):\n",
    "            batch_size = imgs.size(0)\n",
    "            self.optimizer.zero_grad()\n",
    "            retinopathy_pred, macular_edema_pred, fovea_center_pred, optical_disk_pred = self.mtl(imgs)\n",
    "            loss0 = self.criterion(retinopathy_pred, retinopathy_label.to(torch.int64))\n",
    "            loss1 = self.criterion(macular_edema_pred, macular_edema_label.to(torch.int64))\n",
    "            # loss2 = ???????????????????\n",
    "            # loss3 = ???????????????????\n",
    "            loss = torch.stack((loss0 ,loss1))[self.tasks].sum()\n",
    "            print(loss)\n",
    "            loss.backward()\n",
    "            self.optimizer.step()\n",
    "            train_loss += loss\n",
    "        return train_loss"
   ]
  },
  {
   "cell_type": "code",
   "execution_count": null,
   "metadata": {},
   "outputs": [],
   "source": [
    "criterion = nn.CrossEntropyLoss()\n",
    "optimizer = torch.optim.SGD(mtl.parameters(),\n",
    "                                weight_decay=1e-6,\n",
    "                                momentum=0.9,\n",
    "                                lr=1e-3,\n",
    "                                nesterov=True)\n",
    "scheduler = ReduceLROnPlateau(optimizer,\n",
    "                                  factor=0.5,\n",
    "                                  patience=3,\n",
    "                                  min_lr=1e-7,\n",
    "                                  verbose=True)\n",
    "tasks=[[0,1]]"
   ]
  },
  {
   "cell_type": "code",
   "execution_count": null,
   "metadata": {},
   "outputs": [],
   "source": [
    "mtl_trainer=MTL_trainer(mtl,optimizer,scheduler,criterion,tasks,2)\n",
    "mtl_trainer.train(train_dl)"
   ]
  }
 ],
 "metadata": {
  "interpreter": {
   "hash": "483aeb2f258bd2a173809688f12c66e6038f5b29dd5fc23ebacdcb77cdae07a9"
  },
  "kernelspec": {
   "display_name": "Python 3.7.4 ('base')",
   "language": "python",
   "name": "python3"
  },
  "language_info": {
   "codemirror_mode": {
    "name": "ipython",
    "version": 3
   },
   "file_extension": ".py",
   "mimetype": "text/x-python",
   "name": "python",
   "nbconvert_exporter": "python",
   "pygments_lexer": "ipython3",
   "version": "3.7.4"
  },
  "orig_nbformat": 4
 },
 "nbformat": 4,
 "nbformat_minor": 2
}
