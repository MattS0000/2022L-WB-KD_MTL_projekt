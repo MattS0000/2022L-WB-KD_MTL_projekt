{
 "cells": [
  {
   "cell_type": "code",
   "execution_count": 1,
   "metadata": {},
   "outputs": [],
   "source": [
    "import torchvision.models as models\n",
    "import torch\n",
    "from torchvision import transforms\n",
    "from PIL import Image\n",
    "import numpy as np\n",
    "from torch import nn\n",
    "import torch.nn.functional as F\n",
    "from dataset import IDRiD_Dataset\n",
    "from torch.utils.data import DataLoader\n"
   ]
  },
  {
   "cell_type": "code",
   "execution_count": 54,
   "metadata": {},
   "outputs": [],
   "source": [
    "class MTL(nn.Module):\n",
    "    def __init__(self):\n",
    "        super(MTL, self).__init__()\n",
    "        resnet50 = models.resnet50(pretrained=True)\n",
    "        self.features = torch.nn.Sequential(*(list(resnet50.children())[:-1]))\n",
    "        self.last = nn.Sequential(nn.Linear(2048, 1024),nn.ReLU())\n",
    "        self.retinopathy_classifier = nn.Sequential(nn.Linear(1024, 512),nn.ReLU(), nn.Linear(512, 5), nn.Softmax(dim=1))\n",
    "        self.macular_edema_classifier = nn.Sequential(nn.Linear(1024, 512),nn.ReLU(), nn.Linear(512, 5), nn.Softmax(dim=1))\n",
    "        self.fovea_center_cords = nn.Sequential(nn.Linear(1024, 512),nn.ReLU(), nn.Linear(512, 2))\n",
    "        self.optical_disk_cords = nn.Sequential(nn.Linear(1024, 512),nn.ReLU(), nn.Linear(512, 2))\n",
    "\n",
    "    def forward(self,data):\n",
    "        out = self.features.forward(data).squeeze()\n",
    "        out = self.last.forward(out)\n",
    "        return (self.retinopathy_classifier(out),\n",
    "                self.macular_edema_classifier(out),\n",
    "                self.fovea_center_cords(out),\n",
    "                self.optical_disk_cords(out))\n"
   ]
  },
  {
   "cell_type": "code",
   "execution_count": 62,
   "metadata": {},
   "outputs": [],
   "source": [
    "data_transformer=transforms.Compose([transforms.Resize((2000,1000)),transforms.ToTensor()])\n",
    "train_ds=IDRiD_Dataset(data_transformer,'train')\n",
    "train_dl=DataLoader(train_ds,batch_size=2,shuffle=True)\n",
    "mtl=MTL()"
   ]
  },
  {
   "cell_type": "code",
   "execution_count": 63,
   "metadata": {},
   "outputs": [
    {
     "name": "stdout",
     "output_type": "stream",
     "text": [
      "(tensor([[0.2054, 0.2190, 0.1901, 0.1827, 0.2028],\n",
      "        [0.2078, 0.2176, 0.1894, 0.1845, 0.2007]], grad_fn=<SoftmaxBackward>), tensor([[0.2083, 0.1877, 0.2043, 0.2041, 0.1955],\n",
      "        [0.2064, 0.1896, 0.2011, 0.2072, 0.1957]], grad_fn=<SoftmaxBackward>), tensor([[0.0430, 0.1557],\n",
      "        [0.0636, 0.1648]], grad_fn=<AddmmBackward>), tensor([[0.0242, 0.0697],\n",
      "        [0.0397, 0.0663]], grad_fn=<AddmmBackward>))\n"
     ]
    }
   ],
   "source": [
    "for img,label in train_dl:\n",
    "    print(mtl.forward(img))\n",
    "    break"
   ]
  }
 ],
 "metadata": {
  "interpreter": {
   "hash": "483aeb2f258bd2a173809688f12c66e6038f5b29dd5fc23ebacdcb77cdae07a9"
  },
  "kernelspec": {
   "display_name": "Python 3.7.4 ('base')",
   "language": "python",
   "name": "python3"
  },
  "language_info": {
   "codemirror_mode": {
    "name": "ipython",
    "version": 3
   },
   "file_extension": ".py",
   "mimetype": "text/x-python",
   "name": "python",
   "nbconvert_exporter": "python",
   "pygments_lexer": "ipython3",
   "version": "3.7.4"
  },
  "orig_nbformat": 4
 },
 "nbformat": 4,
 "nbformat_minor": 2
}
