{
  "cells": [
    {
      "cell_type": "code",
      "execution_count": 8,
      "metadata": {
        "id": "cWcbt02BAloU"
      },
      "outputs": [
        {
          "data": {
            "text/plain": [
              "device(type='cpu')"
            ]
          },
          "execution_count": 8,
          "metadata": {},
          "output_type": "execute_result"
        }
      ],
      "source": [
        "import torchvision.models as models\n",
        "import torch\n",
        "import torch.nn.functional as F\n",
        "from torchvision import transforms\n",
        "from PIL import Image\n",
        "import copy\n",
        "import numpy as np\n",
        "from torch import nn\n",
        "from dataset import IDRiD_Dataset\n",
        "from dataset_techers import IDRiD_Dataset_teacher\n",
        "from torch.utils.data import DataLoader\n",
        "from torch.optim.lr_scheduler import ReduceLROnPlateau\n",
        "device = torch.device(\"cuda\" if torch.cuda.is_available() else \"cpu\")\n",
        "\n",
        "from pipe_models import MTL\n",
        "device"
      ]
    },
    {
      "cell_type": "code",
      "execution_count": 9,
      "metadata": {
        "id": "KGBFTSmfAloo"
      },
      "outputs": [],
      "source": [
        "rx=450\n",
        "ry=300\n",
        "old_x=4288\n",
        "old_y=2848\n",
        "Rx=rx/old_x\n",
        "Ry=ry/old_y\n",
        "\n",
        "data_transformer = transforms.Compose([transforms.Resize((rx,ry)),transforms.ToTensor(),\n",
        "                                       transforms.Normalize(mean=[0.485, 0.456, 0.406], std=[0.229, 0.224, 0.225])])\n",
        "train_ds = IDRiD_Dataset_teacher(data_transformer,'train')\n",
        "train_dl = DataLoader(train_ds,batch_size=32,shuffle=True)\n",
        "mtl = MTL('M2')\n",
        "\n",
        "\n",
        "mtl=mtl.to(device)\n",
        "\n",
        "criterion = nn.CrossEntropyLoss()\n",
        "optimizer = torch.optim.SGD(filter(lambda p: p.requires_grad, mtl.parameters()),\n",
        "                                weight_decay=1e-6,\n",
        "                                momentum=0.9,\n",
        "                                lr=1e-3,\n",
        "                                nesterov=True)\n",
        "scheduler = ReduceLROnPlateau(optimizer,\n",
        "                                  factor=0.5,\n",
        "                                  patience=3,\n",
        "                                  min_lr=1e-7,\n",
        "                                  verbose=True)\n",
        "tasks=[[0,1,2]]"
      ]
    },
    {
      "cell_type": "code",
      "execution_count": 10,
      "metadata": {
        "colab": {
          "base_uri": "https://localhost:8080/",
          "height": 484
        },
        "id": "-pTB7N4tAloq",
        "outputId": "30b354b2-4b7f-4d16-fd6f-28dd721cae54"
      },
      "outputs": [
        {
          "name": "stdout",
          "output_type": "stream",
          "text": [
            "Epoch: 1 \n",
            "|████████████████████████████████████████████████████████████████████████████████████████████████████| 100.00%\n",
            "Total Loss: 22269.6431933156\n",
            "Loss0: 20.5083072791469 \n",
            "Loss1: 19.158762700142013  \n",
            "Loss2: 22229.97612333631\n",
            "Loss3: 1.9247028116737628\n",
            "Saved best model weights!\n"
          ]
        }
      ],
      "source": [
        "mtl.fit(train_dl,optimizer,scheduler,criterion,tasks,1,Rx,Ry)"
      ]
    },
    {
      "cell_type": "code",
      "execution_count": 7,
      "metadata": {
        "id": "PcCSi2fhP2Xb"
      },
      "outputs": [],
      "source": [
        "import pandas as pd\n",
        "mtl=MTL()\n",
        "mtl.load_state_dict(torch.load(\"./weights\"+str(tasks)+\".pt\"))\n",
        "mtl.eval()\n",
        "data=pd.DataFrame()\n",
        "z = []\n",
        "for i, (imgs, retinopathy_label, macular_edema_label, fovea_center_labels, optical_disk_labels) in enumerate(train_ds):\n",
        "    one_row = mtl.forward(imgs[None,:])\n",
        "    z.append(torch.concat(one_row).detach().numpy())\n",
        "    if i==3:\n",
        "        break\n",
        "data = pd.DataFrame(z)\n",
        "data.to_csv('./IDRID/Labels/teacher_train_predictions'+str(tasks)+'.csv')"
      ]
    }
  ],
  "metadata": {
    "accelerator": "GPU",
    "colab": {
      "collapsed_sections": [],
      "name": "MTL_tests_COLAB.ipynb",
      "provenance": []
    },
    "interpreter": {
      "hash": "e5617e4218106d1065c55b8e8c920867782815809c56c040fb416dac3cbc97d9"
    },
    "kernelspec": {
      "display_name": "Python 3.8.10 64-bit (windows store)",
      "language": "python",
      "name": "python3"
    },
    "language_info": {
      "codemirror_mode": {
        "name": "ipython",
        "version": 3
      },
      "file_extension": ".py",
      "mimetype": "text/x-python",
      "name": "python",
      "nbconvert_exporter": "python",
      "pygments_lexer": "ipython3",
      "version": "3.8.10"
    }
  },
  "nbformat": 4,
  "nbformat_minor": 0
}
