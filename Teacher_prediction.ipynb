{
  "cells": [
    {
      "cell_type": "code",
      "execution_count": null,
      "metadata": {
        "id": "cWcbt02BAloU"
      },
      "outputs": [],
      "source": [
        "import torchvision.models as models\n",
        "import torch\n",
        "import torch.nn.functional as F\n",
        "from torchvision import transforms\n",
        "from PIL import Image\n",
        "import copy\n",
        "import numpy as np\n",
        "from torch import nn\n",
        "from dataset import IDRiD_Dataset\n",
        "from torch.utils.data import DataLoader\n",
        "from torch.optim.lr_scheduler import ReduceLROnPlateau\n",
        "import pandas as pd"
      ]
    },
    {
      "cell_type": "code",
      "source": [
        "from google.colab import drive\n",
        "drive.mount('/content/drive')"
      ],
      "metadata": {
        "id": "1oUG3pVSoDyf",
        "colab": {
          "base_uri": "https://localhost:8080/"
        },
        "outputId": "7e791207-aa64-4209-e7e8-5fcc2ee82f80"
      },
      "execution_count": null,
      "outputs": [
        {
          "output_type": "stream",
          "name": "stdout",
          "text": [
            "Drive already mounted at /content/drive; to attempt to forcibly remount, call drive.mount(\"/content/drive\", force_remount=True).\n"
          ]
        }
      ]
    },
    {
      "cell_type": "code",
      "execution_count": null,
      "metadata": {
        "id": "u-LbM-RsAlof"
      },
      "outputs": [],
      "source": [
        "class MTL(nn.Module):\n",
        "    def __init__(self):\n",
        "        super(MTL, self).__init__()\n",
        "        resnet50 = models.resnet50(pretrained=True)\n",
        "        self.features = torch.nn.Sequential(*(list(resnet50.children())[:-1]))\n",
        "        self.last = nn.Sequential(nn.Linear(2048, 1024),nn.ReLU())\n",
        "        self.retinopathy_classifier = nn.Sequential(nn.Linear(1024, 512),nn.ReLU(), nn.Linear(512, 5))\n",
        "        self.macular_edema_classifier = nn.Sequential(nn.Linear(1024, 512),nn.ReLU(), nn.Linear(512, 5))\n",
        "        self.fovea_center_cords = nn.Sequential(nn.Linear(1024, 512),nn.ReLU(), nn.Linear(512, 2))\n",
        "        self.optical_disk_cords = nn.Sequential(nn.Linear(1024, 512),nn.ReLU(), nn.Linear(512, 2))\n",
        "\n",
        "        \n",
        "    def forward(self, data):\n",
        "        out = self.features.forward(data).squeeze()\n",
        "        out = self.last.forward(out)\n",
        "        return (self.retinopathy_classifier(out),\n",
        "                self.macular_edema_classifier(out),\n",
        "                self.fovea_center_cords(out),\n",
        "                self.optical_disk_cords(out))\n",
        "\n",
        "    def fit(self, train_dl, optimizer, scheduler, criterion, tasks, epochs):\n",
        "        self.optimizer = optimizer\n",
        "        self.scheduler = scheduler\n",
        "        self.criterion = criterion\n",
        "        self.criterion2 = nn.MSELoss()\n",
        "        self.tasks = tasks\n",
        "        self.epochs = epochs\n",
        "        best_loss=float(\"Inf\")\n",
        "        for e in range(self.epochs):\n",
        "            self.train()\n",
        "            print(\"Epoch: {} \".format(e+1),end=\"\")\n",
        "            current_loss=self.fit_iter(train_dl)\n",
        "            if current_loss.item() < best_loss:\n",
        "                best_loss = current_loss.item()\n",
        "                torch.save(self.state_dict(),'./drive/MyDrive/weights.pt')\n",
        "                print(\"Saved best model weights!\")\n",
        "\n",
        "    def fit_iter(self, train_dl):\n",
        "        train_loss = 0.0\n",
        "        loss0sum = 0.0\n",
        "        loss1sum = 0.0\n",
        "        loss2sum = 0.0\n",
        "        loss3sum = 0.0\n",
        "        loss = torch.tensor(0)\n",
        "        accuracy0 = 0.0\n",
        "        accuracy1 = 0.0\n",
        "        for i, (imgs, retinopathy_label, macular_edema_label, fovea_center_labels, optical_disk_labels) in enumerate(train_dl):\n",
        "            fovea_center_labels[:0], fovea_center_labels[:1] = fovea_center_labels[:0]*Rx, fovea_center_labels[:1]*Ry\n",
        "            optical_disk_labels[:0], optical_disk_labels[:1] = optical_disk_labels[:0]*Rx, optical_disk_labels[:1]*Ry\n",
        "            batch_size = imgs.size(0)\n",
        "            self.optimizer.zero_grad()\n",
        "            retinopathy_pred, macular_edema_pred, fovea_center_pred, optical_disk_pred = self.forward(imgs.to(device))\n",
        "            loss0 = self.criterion(retinopathy_pred, retinopathy_label.to(device).to(torch.int64)).to(torch.float64)*10\n",
        "            loss1 = self.criterion(macular_edema_pred, macular_edema_label.to(device).to(torch.int64)).to(torch.float64)*10\n",
        "            loss2 = torch.sqrt(self.criterion2(fovea_center_pred.to(torch.double),fovea_center_labels.to(device).to(torch.double)))/10\n",
        "            loss3 = torch.sqrt(self.criterion2(optical_disk_pred.to(torch.double),optical_disk_labels.to(device).to(torch.double)))/10\n",
        "            loss0sum += loss0\n",
        "            loss1sum += loss1\n",
        "            loss2sum += loss2\n",
        "            loss3sum += loss3\n",
        "            pred0 = F.softmax(retinopathy_pred, dim = -1).argmax(dim=-1)\n",
        "            accuracy0 += pred0.eq(retinopathy_label.to(device)).sum().item()\n",
        "            pred1 = F.softmax(macular_edema_pred, dim = -1).argmax(dim=-1)\n",
        "            accuracy1 += pred1.eq(macular_edema_label.to(device)).sum().item()\n",
        "            loss = torch.stack((loss0, loss1, loss2 ,loss3))[self.tasks].sum()\n",
        "            if i%4==0:\n",
        "              print('=',end=\"\")\n",
        "            #print('Batch number: {}\\nLoss on batch: {}\\nLoss0: {}\\nLoss1: {}\\nLoss2: {}\\nLoss3: {}\\n-----------------------'.format(i,loss.item(), loss0.item(), loss1.item(), loss2.item() ,loss3.item()))\n",
        "            loss.backward()\n",
        "            self.optimizer.step()\n",
        "            train_loss += loss\n",
        "        print(\"\\nTotal Loss: {}\\nLoss0: {}  Accuracy0: {}\\nLoss1: {}  Accuracy1: {}\\nLoss2: {}\\nLoss3: {}\".format(train_loss, loss0sum, accuracy0*100/413, loss1sum, accuracy1*100/413,loss2sum,loss3sum))\n",
        "        return train_loss"
      ]
    },
    {
      "cell_type": "code",
      "execution_count": null,
      "metadata": {
        "id": "KGBFTSmfAloo",
        "colab": {
          "base_uri": "https://localhost:8080/",
          "height": 68,
          "referenced_widgets": [
            "45062569a424458db3b734733c36a764",
            "81e51f25cb8f4988b4d6b9a3258973d2",
            "e7532e6a88f84a26ab4d118230d374f2",
            "a49b65d1ce6d4251b709d8c12b644db1",
            "58b203f3eb9b48e3951fede8c242f4d7",
            "1588912e34e241f789a48d1a5ae45970",
            "0acbd014ff0c42f1982aeba60ecfa348",
            "26f79518303f4cb7ac77d64d13198db1",
            "a9dbac68d4c541f8ae097608ddb1203e",
            "870c567ddc564552bb29a60b67594b06",
            "00a45d72388949e8925c8647150715cc"
          ]
        },
        "outputId": "207cb9d0-8594-434d-bc9c-b26b9fd35f93"
      },
      "outputs": [
        {
          "output_type": "stream",
          "name": "stderr",
          "text": [
            "Downloading: \"https://download.pytorch.org/models/resnet50-0676ba61.pth\" to /root/.cache/torch/hub/checkpoints/resnet50-0676ba61.pth\n"
          ]
        },
        {
          "output_type": "display_data",
          "data": {
            "text/plain": [
              "  0%|          | 0.00/97.8M [00:00<?, ?B/s]"
            ],
            "application/vnd.jupyter.widget-view+json": {
              "version_major": 2,
              "version_minor": 0,
              "model_id": "45062569a424458db3b734733c36a764"
            }
          },
          "metadata": {}
        }
      ],
      "source": [
        "rx=450\n",
        "ry=300\n",
        "old_x=4288\n",
        "old_y=2848\n",
        "Rx=rx/old_x\n",
        "Ry=ry/old_y\n",
        "\n",
        "data_transformer = transforms.Compose([transforms.Resize((rx,ry)),transforms.ToTensor(),\n",
        "                                       transforms.Normalize(mean=[0.485, 0.456, 0.406], std=[0.229, 0.224, 0.225])])\n",
        "train_ds = IDRiD_Dataset(data_transformer,'train')\n",
        "train_dl = DataLoader(train_ds,batch_size=32,shuffle=True)\n",
        "mtl = MTL()\n",
        "\n",
        "if torch.cuda.is_available():\n",
        "    device = torch.device(\"cuda\")\n",
        "    mtl=mtl.to(device)\n",
        "\n",
        "criterion = nn.CrossEntropyLoss()\n",
        "optimizer = torch.optim.SGD(mtl.parameters(),\n",
        "                                weight_decay=1e-6,\n",
        "                                momentum=0.9,\n",
        "                                lr=1e-3,\n",
        "                                nesterov=True)\n",
        "scheduler = ReduceLROnPlateau(optimizer,\n",
        "                                  factor=0.5,\n",
        "                                  patience=3,\n",
        "                                  min_lr=1e-7,\n",
        "                                  verbose=True)\n",
        "tasks=[[0, 1, 2]]"
      ]
    },
    {
      "cell_type": "code",
      "execution_count": null,
      "metadata": {
        "id": "-pTB7N4tAloq"
      },
      "outputs": [],
      "source": [
        "mtl.fit(train_dl,optimizer,scheduler,criterion,tasks,30000)"
      ]
    },
    {
      "cell_type": "code",
      "source": [
        "import pandas as pd\n",
        "mtl=MTL()\n",
        "mtl.load_state_dict(torch.load(\"./drive/MyDrive/weights.pt\"))\n",
        "mtl.eval()\n",
        "data=pd.DataFrame()\n",
        "z = []\n",
        "for i, (imgs, retinopathy_label, macular_edema_label, fovea_center_labels, optical_disk_labels) in enumerate(train_ds):\n",
        "    one_row = mtl.forward(imgs[None,:])\n",
        "    z.append(torch.concat(one_row).detach().numpy())\n",
        "data = pd.DataFrame(z)\n",
        "data.to_csv('teacher_train_predictions.csv')"
      ],
      "metadata": {
        "id": "bNfRBbnNNE09"
      },
      "execution_count": null,
      "outputs": []
    }
  ],
  "metadata": {
    "accelerator": "GPU",
    "colab": {
      "collapsed_sections": [],
      "name": "Teacher_prediction.ipynb",
      "provenance": []
    },
    "interpreter": {
      "hash": "483aeb2f258bd2a173809688f12c66e6038f5b29dd5fc23ebacdcb77cdae07a9"
    },
    "kernelspec": {
      "display_name": "Python 3.7.4 ('base')",
      "language": "python",
      "name": "python3"
    },
    "language_info": {
      "codemirror_mode": {
        "name": "ipython",
        "version": 3
      },
      "file_extension": ".py",
      "mimetype": "text/x-python",
      "name": "python",
      "nbconvert_exporter": "python",
      "pygments_lexer": "ipython3",
      "version": "3.7.4"
    },
    "widgets": {
      "application/vnd.jupyter.widget-state+json": {
        "45062569a424458db3b734733c36a764": {
          "model_module": "@jupyter-widgets/controls",
          "model_name": "HBoxModel",
          "model_module_version": "1.5.0",
          "state": {
            "_dom_classes": [],
            "_model_module": "@jupyter-widgets/controls",
            "_model_module_version": "1.5.0",
            "_model_name": "HBoxModel",
            "_view_count": null,
            "_view_module": "@jupyter-widgets/controls",
            "_view_module_version": "1.5.0",
            "_view_name": "HBoxView",
            "box_style": "",
            "children": [
              "IPY_MODEL_81e51f25cb8f4988b4d6b9a3258973d2",
              "IPY_MODEL_e7532e6a88f84a26ab4d118230d374f2",
              "IPY_MODEL_a49b65d1ce6d4251b709d8c12b644db1"
            ],
            "layout": "IPY_MODEL_58b203f3eb9b48e3951fede8c242f4d7"
          }
        },
        "81e51f25cb8f4988b4d6b9a3258973d2": {
          "model_module": "@jupyter-widgets/controls",
          "model_name": "HTMLModel",
          "model_module_version": "1.5.0",
          "state": {
            "_dom_classes": [],
            "_model_module": "@jupyter-widgets/controls",
            "_model_module_version": "1.5.0",
            "_model_name": "HTMLModel",
            "_view_count": null,
            "_view_module": "@jupyter-widgets/controls",
            "_view_module_version": "1.5.0",
            "_view_name": "HTMLView",
            "description": "",
            "description_tooltip": null,
            "layout": "IPY_MODEL_1588912e34e241f789a48d1a5ae45970",
            "placeholder": "​",
            "style": "IPY_MODEL_0acbd014ff0c42f1982aeba60ecfa348",
            "value": "100%"
          }
        },
        "e7532e6a88f84a26ab4d118230d374f2": {
          "model_module": "@jupyter-widgets/controls",
          "model_name": "FloatProgressModel",
          "model_module_version": "1.5.0",
          "state": {
            "_dom_classes": [],
            "_model_module": "@jupyter-widgets/controls",
            "_model_module_version": "1.5.0",
            "_model_name": "FloatProgressModel",
            "_view_count": null,
            "_view_module": "@jupyter-widgets/controls",
            "_view_module_version": "1.5.0",
            "_view_name": "ProgressView",
            "bar_style": "success",
            "description": "",
            "description_tooltip": null,
            "layout": "IPY_MODEL_26f79518303f4cb7ac77d64d13198db1",
            "max": 102530333,
            "min": 0,
            "orientation": "horizontal",
            "style": "IPY_MODEL_a9dbac68d4c541f8ae097608ddb1203e",
            "value": 102530333
          }
        },
        "a49b65d1ce6d4251b709d8c12b644db1": {
          "model_module": "@jupyter-widgets/controls",
          "model_name": "HTMLModel",
          "model_module_version": "1.5.0",
          "state": {
            "_dom_classes": [],
            "_model_module": "@jupyter-widgets/controls",
            "_model_module_version": "1.5.0",
            "_model_name": "HTMLModel",
            "_view_count": null,
            "_view_module": "@jupyter-widgets/controls",
            "_view_module_version": "1.5.0",
            "_view_name": "HTMLView",
            "description": "",
            "description_tooltip": null,
            "layout": "IPY_MODEL_870c567ddc564552bb29a60b67594b06",
            "placeholder": "​",
            "style": "IPY_MODEL_00a45d72388949e8925c8647150715cc",
            "value": " 97.8M/97.8M [00:01&lt;00:00, 93.3MB/s]"
          }
        },
        "58b203f3eb9b48e3951fede8c242f4d7": {
          "model_module": "@jupyter-widgets/base",
          "model_name": "LayoutModel",
          "model_module_version": "1.2.0",
          "state": {
            "_model_module": "@jupyter-widgets/base",
            "_model_module_version": "1.2.0",
            "_model_name": "LayoutModel",
            "_view_count": null,
            "_view_module": "@jupyter-widgets/base",
            "_view_module_version": "1.2.0",
            "_view_name": "LayoutView",
            "align_content": null,
            "align_items": null,
            "align_self": null,
            "border": null,
            "bottom": null,
            "display": null,
            "flex": null,
            "flex_flow": null,
            "grid_area": null,
            "grid_auto_columns": null,
            "grid_auto_flow": null,
            "grid_auto_rows": null,
            "grid_column": null,
            "grid_gap": null,
            "grid_row": null,
            "grid_template_areas": null,
            "grid_template_columns": null,
            "grid_template_rows": null,
            "height": null,
            "justify_content": null,
            "justify_items": null,
            "left": null,
            "margin": null,
            "max_height": null,
            "max_width": null,
            "min_height": null,
            "min_width": null,
            "object_fit": null,
            "object_position": null,
            "order": null,
            "overflow": null,
            "overflow_x": null,
            "overflow_y": null,
            "padding": null,
            "right": null,
            "top": null,
            "visibility": null,
            "width": null
          }
        },
        "1588912e34e241f789a48d1a5ae45970": {
          "model_module": "@jupyter-widgets/base",
          "model_name": "LayoutModel",
          "model_module_version": "1.2.0",
          "state": {
            "_model_module": "@jupyter-widgets/base",
            "_model_module_version": "1.2.0",
            "_model_name": "LayoutModel",
            "_view_count": null,
            "_view_module": "@jupyter-widgets/base",
            "_view_module_version": "1.2.0",
            "_view_name": "LayoutView",
            "align_content": null,
            "align_items": null,
            "align_self": null,
            "border": null,
            "bottom": null,
            "display": null,
            "flex": null,
            "flex_flow": null,
            "grid_area": null,
            "grid_auto_columns": null,
            "grid_auto_flow": null,
            "grid_auto_rows": null,
            "grid_column": null,
            "grid_gap": null,
            "grid_row": null,
            "grid_template_areas": null,
            "grid_template_columns": null,
            "grid_template_rows": null,
            "height": null,
            "justify_content": null,
            "justify_items": null,
            "left": null,
            "margin": null,
            "max_height": null,
            "max_width": null,
            "min_height": null,
            "min_width": null,
            "object_fit": null,
            "object_position": null,
            "order": null,
            "overflow": null,
            "overflow_x": null,
            "overflow_y": null,
            "padding": null,
            "right": null,
            "top": null,
            "visibility": null,
            "width": null
          }
        },
        "0acbd014ff0c42f1982aeba60ecfa348": {
          "model_module": "@jupyter-widgets/controls",
          "model_name": "DescriptionStyleModel",
          "model_module_version": "1.5.0",
          "state": {
            "_model_module": "@jupyter-widgets/controls",
            "_model_module_version": "1.5.0",
            "_model_name": "DescriptionStyleModel",
            "_view_count": null,
            "_view_module": "@jupyter-widgets/base",
            "_view_module_version": "1.2.0",
            "_view_name": "StyleView",
            "description_width": ""
          }
        },
        "26f79518303f4cb7ac77d64d13198db1": {
          "model_module": "@jupyter-widgets/base",
          "model_name": "LayoutModel",
          "model_module_version": "1.2.0",
          "state": {
            "_model_module": "@jupyter-widgets/base",
            "_model_module_version": "1.2.0",
            "_model_name": "LayoutModel",
            "_view_count": null,
            "_view_module": "@jupyter-widgets/base",
            "_view_module_version": "1.2.0",
            "_view_name": "LayoutView",
            "align_content": null,
            "align_items": null,
            "align_self": null,
            "border": null,
            "bottom": null,
            "display": null,
            "flex": null,
            "flex_flow": null,
            "grid_area": null,
            "grid_auto_columns": null,
            "grid_auto_flow": null,
            "grid_auto_rows": null,
            "grid_column": null,
            "grid_gap": null,
            "grid_row": null,
            "grid_template_areas": null,
            "grid_template_columns": null,
            "grid_template_rows": null,
            "height": null,
            "justify_content": null,
            "justify_items": null,
            "left": null,
            "margin": null,
            "max_height": null,
            "max_width": null,
            "min_height": null,
            "min_width": null,
            "object_fit": null,
            "object_position": null,
            "order": null,
            "overflow": null,
            "overflow_x": null,
            "overflow_y": null,
            "padding": null,
            "right": null,
            "top": null,
            "visibility": null,
            "width": null
          }
        },
        "a9dbac68d4c541f8ae097608ddb1203e": {
          "model_module": "@jupyter-widgets/controls",
          "model_name": "ProgressStyleModel",
          "model_module_version": "1.5.0",
          "state": {
            "_model_module": "@jupyter-widgets/controls",
            "_model_module_version": "1.5.0",
            "_model_name": "ProgressStyleModel",
            "_view_count": null,
            "_view_module": "@jupyter-widgets/base",
            "_view_module_version": "1.2.0",
            "_view_name": "StyleView",
            "bar_color": null,
            "description_width": ""
          }
        },
        "870c567ddc564552bb29a60b67594b06": {
          "model_module": "@jupyter-widgets/base",
          "model_name": "LayoutModel",
          "model_module_version": "1.2.0",
          "state": {
            "_model_module": "@jupyter-widgets/base",
            "_model_module_version": "1.2.0",
            "_model_name": "LayoutModel",
            "_view_count": null,
            "_view_module": "@jupyter-widgets/base",
            "_view_module_version": "1.2.0",
            "_view_name": "LayoutView",
            "align_content": null,
            "align_items": null,
            "align_self": null,
            "border": null,
            "bottom": null,
            "display": null,
            "flex": null,
            "flex_flow": null,
            "grid_area": null,
            "grid_auto_columns": null,
            "grid_auto_flow": null,
            "grid_auto_rows": null,
            "grid_column": null,
            "grid_gap": null,
            "grid_row": null,
            "grid_template_areas": null,
            "grid_template_columns": null,
            "grid_template_rows": null,
            "height": null,
            "justify_content": null,
            "justify_items": null,
            "left": null,
            "margin": null,
            "max_height": null,
            "max_width": null,
            "min_height": null,
            "min_width": null,
            "object_fit": null,
            "object_position": null,
            "order": null,
            "overflow": null,
            "overflow_x": null,
            "overflow_y": null,
            "padding": null,
            "right": null,
            "top": null,
            "visibility": null,
            "width": null
          }
        },
        "00a45d72388949e8925c8647150715cc": {
          "model_module": "@jupyter-widgets/controls",
          "model_name": "DescriptionStyleModel",
          "model_module_version": "1.5.0",
          "state": {
            "_model_module": "@jupyter-widgets/controls",
            "_model_module_version": "1.5.0",
            "_model_name": "DescriptionStyleModel",
            "_view_count": null,
            "_view_module": "@jupyter-widgets/base",
            "_view_module_version": "1.2.0",
            "_view_name": "StyleView",
            "description_width": ""
          }
        }
      }
    }
  },
  "nbformat": 4,
  "nbformat_minor": 0
}