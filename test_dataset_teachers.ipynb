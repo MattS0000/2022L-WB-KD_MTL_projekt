{
 "cells": [
  {
   "cell_type": "code",
   "execution_count": 1,
   "metadata": {},
   "outputs": [
    {
     "ename": "ImportError",
     "evalue": "cannot import name 'IDRiD_Dataset_teacher' from 'dataset_techers' (c:\\Users\\SZYMON\\Documents\\semestr 6\\WB\\2022L-WB-KD_MTL_projekt\\dataset_techers.py)",
     "output_type": "error",
     "traceback": [
      "\u001b[1;31m---------------------------------------------------------------------------\u001b[0m",
      "\u001b[1;31mImportError\u001b[0m                               Traceback (most recent call last)",
      "\u001b[1;32mc:\\Users\\SZYMON\\Documents\\semestr 6\\WB\\2022L-WB-KD_MTL_projekt\\test.ipynb Cell 1'\u001b[0m in \u001b[0;36m<cell line: 1>\u001b[1;34m()\u001b[0m\n\u001b[1;32m----> <a href='vscode-notebook-cell:/c%3A/Users/SZYMON/Documents/semestr%206/WB/2022L-WB-KD_MTL_projekt/test.ipynb#ch0000002?line=0'>1</a>\u001b[0m \u001b[39mfrom\u001b[39;00m \u001b[39mdataset_techers\u001b[39;00m \u001b[39mimport\u001b[39;00m IDRiD_Dataset_teacher\n\u001b[0;32m      <a href='vscode-notebook-cell:/c%3A/Users/SZYMON/Documents/semestr%206/WB/2022L-WB-KD_MTL_projekt/test.ipynb#ch0000002?line=1'>2</a>\u001b[0m \u001b[39mimport\u001b[39;00m \u001b[39mpandas\u001b[39;00m \u001b[39mas\u001b[39;00m \u001b[39mpd\u001b[39;00m\n\u001b[0;32m      <a href='vscode-notebook-cell:/c%3A/Users/SZYMON/Documents/semestr%206/WB/2022L-WB-KD_MTL_projekt/test.ipynb#ch0000002?line=2'>3</a>\u001b[0m \u001b[39mimport\u001b[39;00m \u001b[39mnumpy\u001b[39;00m \u001b[39mas\u001b[39;00m \u001b[39mnp\u001b[39;00m\n",
      "\u001b[1;31mImportError\u001b[0m: cannot import name 'IDRiD_Dataset_teacher' from 'dataset_techers' (c:\\Users\\SZYMON\\Documents\\semestr 6\\WB\\2022L-WB-KD_MTL_projekt\\dataset_techers.py)"
     ]
    }
   ],
   "source": [
    "from dataset_techers import IDRiD_Dataset_teacher\n",
    "import pandas as pd\n",
    "import numpy as np"
   ]
  }
 ],
 "metadata": {
  "interpreter": {
   "hash": "8dd38f8217d99b7b3075b5c239a8ed607c47eb1b68a948a16aad02a9109aace8"
  },
  "kernelspec": {
   "display_name": "Python 3.8.10 64-bit (windows store)",
   "language": "python",
   "name": "python3"
  },
  "language_info": {
   "codemirror_mode": {
    "name": "ipython",
    "version": 3
   },
   "file_extension": ".py",
   "mimetype": "text/x-python",
   "name": "python",
   "nbconvert_exporter": "python",
   "pygments_lexer": "ipython3",
   "version": "3.8.10"
  },
  "orig_nbformat": 4
 },
 "nbformat": 4,
 "nbformat_minor": 2
}
