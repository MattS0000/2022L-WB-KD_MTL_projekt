{
  "cells": [
    {
      "cell_type": "code",
      "execution_count": 1,
      "metadata": {
        "id": "cWcbt02BAloU",
        "colab": {
          "base_uri": "https://localhost:8080/"
        },
        "outputId": "2cc1c060-60d1-42e6-cc45-73330ebcc090"
      },
      "outputs": [
        {
          "output_type": "stream",
          "name": "stdout",
          "text": [
            "Drive already mounted at /content/drive; to attempt to forcibly remount, call drive.mount(\"/content/drive\", force_remount=True).\n"
          ]
        }
      ],
      "source": [
        "from google.colab import drive\n",
        "drive.mount('/content/drive')"
      ]
    },
    {
      "cell_type": "code",
      "execution_count": 2,
      "metadata": {
        "id": "KGBFTSmfAloo",
        "pycharm": {
          "name": "#%%\n"
        },
        "colab": {
          "base_uri": "https://localhost:8080/"
        },
        "outputId": "7de9fb59-30b5-4564-959a-0e34e64ee2b8"
      },
      "outputs": [
        {
          "output_type": "stream",
          "name": "stdout",
          "text": [
            "./drive/MyDrive/IDRID/Labels/train/labels.csv\n",
            "Epoch: 1 \n",
            "|████████████████████████████████████████████████████████████████████████████████████████████████████| 100.00%\n",
            "Total Loss: 2434.283433795298\n",
            "Loss0: 208.8008677959442  Accuracy0: 17.91767554479419\n",
            "Loss1: 158.49793136119843  Accuracy1: 46.73123486682809\n",
            "Loss2: 2275.7855024341006\n",
            "Loss3: 2353.51999487512\n",
            "Saved best model weights!\n",
            "./drive/MyDrive/IDRID/Labels/train/M1_predictions[1, 2].csv\n",
            "Epoch: 1 \n",
            "|████████████████████████████████████████████████████████████████████████████████████████████████████| 100.00%\n",
            "Total Loss: 6.962024747194281\n",
            "Loss0: 0.06147331646850292 \n",
            "Loss1: 6.605027318212509  \n",
            "Loss2: 0.3569974289817727\n",
            "Loss3: 1.0735674382844502\n",
            "Saved best model weights!\n",
            "./drive/MyDrive/IDRID/Labels/train/M2_predictions[1, 2].csv\n",
            "Epoch: 1 \n",
            "|████████████████████████████████████████████████████████████████████████████████████████████████████| 100.00%Saved best model weights!\n"
          ]
        }
      ],
      "source": [
        "from Pipeline.Pipe import Pipe\n",
        "pipe = Pipe()\n",
        "pipe.fit_pipe([1,2], 1)"
      ]
    },
    {
      "cell_type": "code",
      "source": [
        ""
      ],
      "metadata": {
        "id": "TNZElVqQWEsV"
      },
      "execution_count": 2,
      "outputs": []
    }
  ],
  "metadata": {
    "accelerator": "GPU",
    "colab": {
      "collapsed_sections": [],
      "name": "MTL.ipynb",
      "provenance": []
    },
    "interpreter": {
      "hash": "e5617e4218106d1065c55b8e8c920867782815809c56c040fb416dac3cbc97d9"
    },
    "kernelspec": {
      "display_name": "Python 3.8.10 64-bit (windows store)",
      "language": "python",
      "name": "python3"
    },
    "language_info": {
      "codemirror_mode": {
        "name": "ipython",
        "version": 3
      },
      "file_extension": ".py",
      "mimetype": "text/x-python",
      "name": "python",
      "nbconvert_exporter": "python",
      "pygments_lexer": "ipython3",
      "version": "3.8.10"
    }
  },
  "nbformat": 4,
  "nbformat_minor": 0
}